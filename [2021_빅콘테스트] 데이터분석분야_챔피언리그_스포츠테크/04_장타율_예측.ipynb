{
 "cells": [
  {
   "cell_type": "markdown",
   "metadata": {},
   "source": [
    "# 2021 빅콘테스트 베럴타구 정의와 OPS 예측"
   ]
  },
  {
   "cell_type": "markdown",
   "metadata": {},
   "source": [
    "# 1. Data & Library"
   ]
  },
  {
   "cell_type": "code",
   "execution_count": 1,
   "metadata": {},
   "outputs": [
    {
     "name": "stdout",
     "output_type": "stream",
     "text": [
      "tf Version \n",
      " 2.4.1\n",
      "tf.keras Version \n",
      " 2.4.0\n"
     ]
    }
   ],
   "source": [
    "#기본 패키지\n",
    "import time\n",
    "import warnings\n",
    "warnings.filterwarnings('ignore')\n",
    "\n",
    "#데이터 처리 패키지\n",
    "import numpy as np\n",
    "\n",
    "#시각화 패키지\n",
    "import matplotlib as mpl\n",
    "import matplotlib.font_manager as fm\n",
    "import matplotlib.pyplot as plt\n",
    "from matplotlib import rc \n",
    "rc('font', family='malgun gothic')\n",
    "rc('axes', unicode_minus = False)\n",
    "import seaborn as sns\n",
    "plt.style.use('ggplot')\n",
    "\n",
    "#수학 패키지\n",
    "from scipy.stats.mstats import gmean\n",
    "from scipy.stats import randint as sp_randint\n",
    "from scipy.stats import uniform\n",
    "import uuid\n",
    "import random\n",
    "from tqdm import tqdm\n",
    "from itertools import combinations\n",
    "\n",
    "#머신러닝 패키지\n",
    "from sklearn.model_selection import train_test_split\n",
    "from sklearn.model_selection import cross_val_score\n",
    "from sklearn.model_selection import StratifiedKFold\n",
    "from sklearn.model_selection import KFold\n",
    "from sklearn.model_selection import ShuffleSplit\n",
    "from sklearn.preprocessing import OneHotEncoder\n",
    "from sklearn.cluster import KMeans\n",
    "from sklearn.decomposition import PCA\n",
    "from sklearn.preprocessing import StandardScaler\n",
    "from sklearn.feature_selection import SelectPercentile\n",
    "from sklearn.model_selection import RandomizedSearchCV\n",
    "from sklearn.ensemble import *\n",
    "from sklearn.naive_bayes import GaussianNB \n",
    "from sklearn.linear_model import LogisticRegression, SGDClassifier, LinearRegression, SGDRegressor\n",
    "from sklearn.neighbors import KNeighborsClassifier, KNeighborsRegressor\n",
    "from sklearn.neural_network import MLPClassifier, MLPRegressor\n",
    "from sklearn.tree import DecisionTreeClassifier, DecisionTreeRegressor\n",
    "from sklearn.svm import SVC\n",
    "from xgboost import XGBClassifier, XGBRegressor\n",
    "from lightgbm import LGBMClassifier, LGBMRegressor\n",
    "from catboost import CatBoostClassifier, CatBoostRegressor\n",
    "from vecstack import stacking, StackingTransformer\n",
    "from sklearn.metrics import roc_auc_score\n",
    "from sklearn.metrics import accuracy_score\n",
    "\n",
    "#딥러닝 패키지\n",
    "import tensorflow.keras as keras\n",
    "import tensorflow as tf\n",
    "from tensorflow.keras import backend as K\n",
    "from tensorflow.keras.models import * #Model\n",
    "from tensorflow.keras.optimizers import *\n",
    "from tensorflow.keras.regularizers import *\n",
    "#from keras.utils.np_utils import *\n",
    "#from tensorflow.keras.utils.vis_utils import * #model_to_dot\n",
    "from tensorflow.keras.callbacks import ModelCheckpoint,EarlyStopping\n",
    "from tensorflow.keras.losses import *\n",
    "from tensorflow.keras import layers\n",
    "print('tf Version \\n', tf.__version__)\n",
    "print('tf.keras Version \\n', tf.keras.__version__)\n",
    "\n",
    "import lightgbm as lgb\n",
    "import numpy as np\n",
    "import pandas as pd\n",
    "from pprint import pprint\n",
    "from sklearn.metrics import log_loss\n",
    "from sklearn.model_selection import StratifiedKFold\n",
    "import seaborn as sns\n",
    "from tensorflow import keras\n",
    "import tensorflow as tf\n",
    "import warnings\n",
    "from tqdm import tqdm, tqdm_notebook\n",
    "from sklearn.model_selection import cross_val_score\n",
    "import random\n",
    "\n",
    "import kerastuner as kt\n",
    "\n",
    "\n",
    "from sklearn.feature_selection import RFE\n",
    "from sklearn.feature_selection import SelectPercentile\n",
    "import matplotlib.pyplot as plt\n",
    "import matplotlib.font_manager as fm\n",
    "plt.rc('font', family=fm.FontProperties(fname=\"c:/Windows/Fonts/malgun.ttf\").get_name()) # for Windows OS user\n",
    "import datetime\n",
    "import os\n",
    "from sklearn.model_selection import train_test_split\n",
    "from sklearn.metrics import mean_squared_error\n",
    "from xgboost import XGBRegressor\n",
    "from lightgbm import LGBMRegressor\n",
    "from sklearn.ensemble import GradientBoostingRegressor\n",
    "from catboost import CatBoostRegressor\n",
    "from sklearn.linear_model import Ridge\n",
    "from sklearn.linear_model import BayesianRidge\n",
    "from tensorflow import keras\n",
    "from scipy.stats.mstats import gmean\n",
    "from sklearn.ensemble import RandomForestRegressor\n",
    "from sklearn.model_selection import RandomizedSearchCV\n",
    "import sys, warnings\n",
    "if not sys.warnoptions: warnings.simplefilter(\"ignore\")\n",
    "    \n",
    "\n",
    "import pandas as pd\n",
    "import os \n",
    "import glob\n",
    "import numpy as np\n",
    "# Standard library imports\n",
    "import os \n",
    "import glob\n",
    "import numpy as np\n",
    "import itertools\n",
    "\n",
    "# Third party imports\n",
    "import pandas as pd\n",
    "from sklearn.model_selection import train_test_split\n",
    "from sklearn.model_selection import KFold \n",
    "from sklearn.model_selection import cross_val_score\n",
    "from sklearn.model_selection import GridSearchCV\n",
    "from sklearn.ensemble import RandomForestRegressor\n",
    "from sklearn.preprocessing import StandardScaler\n",
    "from sklearn.linear_model import LinearRegression\n",
    "from sklearn.metrics import mean_absolute_error\n",
    "from xgboost import XGBRegressor\n",
    "from catboost import CatBoostRegressor\n",
    "import lightgbm as LGB\n",
    "from sklearn.cross_decomposition import PLSRegression\n",
    "from sklearn.linear_model import Lasso,ElasticNet,Ridge\n",
    "from sklearn.svm import SVR\n",
    "\n",
    "from tqdm import tqdm\n",
    "import plotly \n",
    "import plotly.express as px\n",
    "import plotly.graph_objects as go \n",
    "from plotly.subplots import make_subplots\n",
    "import matplotlib.pyplot as plt\n",
    "from matplotlib import font_manager, rc\n",
    "import shap\n",
    "import seaborn as sns\n",
    "\n",
    "import klib\n",
    "# Dacon plotly 그림 업로드 \n",
    "pd.options.plotting.backend = 'plotly'\n",
    "## plotly.io를 import 한 후 renderers 기본값을 꼭 \"notebook_connected\" 로 설정해주시기 바랍니다.\n",
    "import plotly.io as pio\n",
    "pio.renderers.default = \"notebook_connected\"\n",
    "\n",
    "#options \n",
    "pd.set_option('display.max_columns', None)\n",
    "#rc('font', family='AppleGothic')\n",
    "#matplotlib.rcParams['axes.unicode_minus'] = False\n",
    "\n",
    "from matplotlib import font_manager, rc\n",
    "font_path = \"C:/Windows/Fonts/NGULIM.TTF\"\n",
    "font = font_manager.FontProperties(fname=font_path).get_name()\n",
    "rc('font', family=font)"
   ]
  },
  {
   "cell_type": "code",
   "execution_count": 2,
   "metadata": {},
   "outputs": [],
   "source": [
    "import glob\n",
    "data_path_1 = os.path.abspath('../data/01_제공데이터')\n",
    "data_path_2 = os.path.abspath('../data/02_평가데이터')\n",
    "data_path_3 = os.path.abspath('../data/03_수집데이터')"
   ]
  },
  {
   "cell_type": "markdown",
   "metadata": {},
   "source": [
    "# 1. Read Data"
   ]
  },
  {
   "cell_type": "code",
   "execution_count": 3,
   "metadata": {},
   "outputs": [],
   "source": [
    "csv_files = glob.glob(data_path_1+'/*.csv')\n",
    "\n",
    "dataset = {}    # Raw data Dick 자징하기\n",
    "files = []      # Raw data file 리스트 \n",
    "for name in csv_files:\n",
    "    raw = pd.read_csv(name,encoding = \"cp949\")\n",
    "    name = os.path.basename(name).split('.')[0] # 파일의 확장자 제외 이름만 가져오기 \n",
    "    dataset.update({name : raw})    # 데이터 사전 \n",
    "\n",
    "    files.append(name)   "
   ]
  },
  {
   "cell_type": "code",
   "execution_count": 4,
   "metadata": {},
   "outputs": [
    {
     "data": {
      "text/plain": [
       "['2021 빅콘테스트_데이터분석분야_챔피언리그_스포츠테크_HTS_2018',\n",
       " '2021 빅콘테스트_데이터분석분야_챔피언리그_스포츠테크_HTS_2019',\n",
       " '2021 빅콘테스트_데이터분석분야_챔피언리그_스포츠테크_HTS_2020',\n",
       " '2021 빅콘테스트_데이터분석분야_챔피언리그_스포츠테크_HTS_2021',\n",
       " '2021 빅콘테스트_데이터분석분야_챔피언리그_스포츠테크_경기일정_2021',\n",
       " '2021 빅콘테스트_데이터분석분야_챔피언리그_스포츠테크_선수_2018',\n",
       " '2021 빅콘테스트_데이터분석분야_챔피언리그_스포츠테크_선수_2019',\n",
       " '2021 빅콘테스트_데이터분석분야_챔피언리그_스포츠테크_선수_2020',\n",
       " '2021 빅콘테스트_데이터분석분야_챔피언리그_스포츠테크_선수_2021',\n",
       " '2021 빅콘테스트_데이터분석분야_챔피언리그_스포츠테크_타자 기본_2018',\n",
       " '2021 빅콘테스트_데이터분석분야_챔피언리그_스포츠테크_타자 기본_2019',\n",
       " '2021 빅콘테스트_데이터분석분야_챔피언리그_스포츠테크_타자 기본_2020',\n",
       " '2021 빅콘테스트_데이터분석분야_챔피언리그_스포츠테크_타자 기본_2021',\n",
       " '2021 빅콘테스트_데이터분석분야_챔피언리그_스포츠테크_팀']"
      ]
     },
     "metadata": {},
     "output_type": "display_data"
    }
   ],
   "source": [
    "display(files)"
   ]
  },
  {
   "cell_type": "code",
   "execution_count": 5,
   "metadata": {},
   "outputs": [],
   "source": [
    "hit_2018 = dataset[files[0]]\n",
    "hit_2019 = dataset[files[1]]\n",
    "hit_2020 = dataset[files[2]]\n",
    "hit_2021 = dataset[files[3]]\n",
    "\n",
    "player_2018 = dataset[files[5]]\n",
    "player_2019 = dataset[files[6]]\n",
    "player_2020 = dataset[files[7]]\n",
    "player_2021 = dataset[files[8]]\n",
    "\n",
    "batter_2018 = dataset[files[9]]\n",
    "batter_2019 = dataset[files[10]]\n",
    "batter_2020 = dataset[files[11]]\n",
    "batter_2021 = dataset[files[12]]"
   ]
  },
  {
   "cell_type": "markdown",
   "metadata": {},
   "source": [
    "# 2. 데이터전처리"
   ]
  },
  {
   "cell_type": "markdown",
   "metadata": {},
   "source": [
    "## Data Cleansing & Pre-Processing"
   ]
  },
  {
   "cell_type": "code",
   "execution_count": 6,
   "metadata": {},
   "outputs": [],
   "source": [
    "#컬럼명 변경\n",
    "hit_2018.columns = [\"년도\", \"경기코드\", \"투구코드\", \"선수코드\", \"팀코드\", \"이닝\", \"타구속도\",\"발사각도\", \"타구종류\", \"구속\", \"경기장\"]\n",
    "hit_2019.columns = [\"년도\", \"경기코드\", \"투구코드\", \"선수코드\", \"팀코드\", \"이닝\", \"타구속도\",\"발사각도\", \"타구종류\", \"구속\", \"경기장\"]\n",
    "hit_2020.columns = [\"년도\", \"경기코드\", \"투구코드\", \"선수코드\", \"팀코드\", \"이닝\", \"타구속도\",\"발사각도\", \"타구종류\", \"구속\", \"경기장\"]\n",
    "hit_2021.columns = [\"년도\", \"경기코드\", \"투구코드\", \"선수코드\", \"팀코드\", \"이닝\", \"타구속도\",\"발사각도\", \"타구종류\", \"구속\", \"경기장\"]\n",
    "\n",
    "player_2018.columns = [\"년도\", \"선수코드\", \"이름\", \"팀코드\", \"포지션\", \"나이\", \"연봉\"]\n",
    "player_2019.columns = [\"년도\", \"선수코드\", \"이름\", \"팀코드\", \"포지션\", \"나이\", \"연봉\"]\n",
    "player_2020.columns = [\"년도\", \"선수코드\", \"이름\", \"팀코드\", \"포지션\", \"나이\", \"연봉\"]\n",
    "player_2021.columns = [\"년도\", \"선수코드\", \"이름\", \"팀코드\", \"포지션\", \"나이\", \"연봉\"]\n",
    "\n",
    "batter_2018.columns = [\"년도\", \"선수코드\", \"출장경기수\", \"타석\", \"타수\", \"타율\", \"안타\", \"홈런\", \"루타\", \"장타율\", \"희생플라이\", \"볼넷\", \"삼진\", \"고의사구\", \"사구\", \"병살타\"]\n",
    "batter_2019.columns = [\"년도\", \"선수코드\", \"출장경기수\", \"타석\", \"타수\", \"타율\", \"안타\", \"홈런\", \"루타\", \"장타율\", \"희생플라이\", \"볼넷\", \"삼진\", \"고의사구\", \"사구\", \"병살타\"]\n",
    "batter_2020.columns = [\"년도\", \"선수코드\", \"출장경기수\", \"타석\", \"타수\", \"타율\", \"안타\", \"홈런\", \"루타\", \"장타율\", \"희생플라이\", \"볼넷\", \"삼진\", \"고의사구\", \"사구\", \"병살타\"]\n",
    "batter_2021.columns =[\"년도\", \"선수코드\", \"출장경기수\", \"타석\", \"타수\", \"타율\", \"안타\", \"홈런\", \"루타\", \"장타율\", \"희생플라이\", \"볼넷\", \"삼진\", \"고의사구\", \"사구\", \"병살타\"]"
   ]
  },
  {
   "cell_type": "code",
   "execution_count": 7,
   "metadata": {},
   "outputs": [],
   "source": [
    "#타구데이터 출루,출루율 ,ops 생성\n",
    "batter_2018[\"출루\"] = batter_2018[\"안타\"] + batter_2018[\"볼넷\"] + batter_2018[\"사구\"] + batter_2018[\"고의사구\"]\n",
    "batter_2019[\"출루\"] = batter_2019[\"안타\"] + batter_2019[\"볼넷\"] + batter_2019[\"사구\"] + batter_2019[\"고의사구\"]\n",
    "batter_2020[\"출루\"] = batter_2020[\"안타\"] + batter_2020[\"볼넷\"] + batter_2020[\"사구\"] + batter_2020[\"고의사구\"]\n",
    "batter_2021[\"출루\"] = batter_2021[\"안타\"] + batter_2021[\"볼넷\"] + batter_2021[\"사구\"] + batter_2021[\"고의사구\"]\n",
    "\n",
    "batter_2018[\"출루율\"] = batter_2018[\"출루\"] / (batter_2018[\"타수\"]+batter_2018[\"볼넷\"]+batter_2018[\"사구\"] + batter_2018[\"고의사구\"]+batter_2018[\"희생플라이\"] )\n",
    "batter_2019[\"출루율\"] = batter_2019[\"출루\"] / (batter_2019[\"타수\"]+batter_2019[\"볼넷\"]+batter_2019[\"사구\"] + batter_2019[\"고의사구\"]+batter_2019[\"희생플라이\"] )\n",
    "batter_2020[\"출루율\"] = batter_2020[\"출루\"] / (batter_2020[\"타수\"]+batter_2020[\"볼넷\"]+batter_2020[\"사구\"] + batter_2020[\"고의사구\"]+batter_2020[\"희생플라이\"] )\n",
    "batter_2021[\"출루율\"] = batter_2021[\"출루\"] / (batter_2021[\"타수\"]+batter_2021[\"볼넷\"]+batter_2021[\"사구\"] + batter_2021[\"고의사구\"]+batter_2021[\"희생플라이\"] )\n",
    "\n",
    "batter_2018[\"OPS\"] = batter_2018[\"장타율\"]+ batter_2018[\"출루율\"]\n",
    "batter_2019[\"OPS\"] = batter_2019[\"장타율\"]+ batter_2019[\"출루율\"]\n",
    "batter_2020[\"OPS\"] = batter_2020[\"장타율\"]+ batter_2020[\"출루율\"]"
   ]
  },
  {
   "cell_type": "code",
   "execution_count": 8,
   "metadata": {},
   "outputs": [
    {
     "data": {
      "text/plain": [
       "'20200809NCHT0'"
      ]
     },
     "execution_count": 8,
     "metadata": {},
     "output_type": "execute_result"
    }
   ],
   "source": [
    "#2021년 경기수만큼 2018, 2019, 2020년 학습데이터로 사용\n",
    "hit_2018.경기코드.unique()[383] # 6월 29일 경기까지\n",
    "hit_2019.경기코드.unique()[382] #6월 26일 경기까지\n",
    "hit_2020.경기코드.unique()[383] #8월 9일 경기까지"
   ]
  },
  {
   "cell_type": "code",
   "execution_count": 9,
   "metadata": {},
   "outputs": [],
   "source": [
    "#게임 경기코드\n",
    "game_2018 = hit_2018.경기코드.unique()[:384]\n",
    "game_2019 = hit_2019.경기코드.unique()[:383]\n",
    "game_2020 = hit_2020.경기코드.unique()[:384]"
   ]
  },
  {
   "cell_type": "code",
   "execution_count": 10,
   "metadata": {},
   "outputs": [],
   "source": [
    "#규정타석 충족 확인을 위한 데이터셋 결합\n",
    "batter_=pd.concat([batter_2018,batter_2019,batter_2020])\n",
    "\n",
    "batter_[\"고유선수코드\"] = batter_[\"년도\"].astype(\"str\")+ \"_\" + batter_[\"선수코드\"].astype(\"str\")"
   ]
  },
  {
   "cell_type": "code",
   "execution_count": 11,
   "metadata": {},
   "outputs": [],
   "source": [
    "#STATTIZ 크롤링 데이터 불러오기\n",
    "player_features=pd.read_csv(data_path_3+'/statiz_rowdata_pcode.csv',index_col=False)"
   ]
  },
  {
   "cell_type": "code",
   "execution_count": 12,
   "metadata": {},
   "outputs": [],
   "source": [
    "#2018,2019,2020,2021 거의 일치하는 경기수로 맞춰서 타구데이터를 활용\n",
    "#2021년 후반기 데이터가 부족하기 떄문.\n",
    "train_game = pd.concat([hit_2020.query(\"경기코드 in @game_2020\"), hit_2019.query(\"경기코드 in @game_2019\"), hit_2018.query(\"경기코드 in @game_2018\")]).reset_index(drop = True)\n",
    "test_game = hit_2021"
   ]
  },
  {
   "cell_type": "code",
   "execution_count": 13,
   "metadata": {},
   "outputs": [],
   "source": [
    "#매년 경기력이 달라지는게 선수들이여서 고유선수코드를 부여함.\n",
    "train_game[\"고유선수코드\"] = train_game[\"년도\"].astype(\"str\")+ \"_\" + train_game[\"선수코드\"].astype(\"str\")\n",
    "test_game[\"고유선수코드\"] = test_game[\"년도\"].astype(\"str\")+ \"_\" + test_game[\"선수코드\"].astype(\"str\")"
   ]
  },
  {
   "cell_type": "code",
   "execution_count": 14,
   "metadata": {},
   "outputs": [],
   "source": [
    "#이닝 str로 변환 \n",
    "train_game=train_game.astype({'이닝': 'str'})"
   ]
  },
  {
   "cell_type": "code",
   "execution_count": 15,
   "metadata": {},
   "outputs": [],
   "source": [
    "tr=player_features.groupby('고유선수코드')['타수'].sum().reset_index()"
   ]
  },
  {
   "cell_type": "code",
   "execution_count": 16,
   "metadata": {},
   "outputs": [],
   "source": [
    "train_game = pd.merge(left = train_game ,right = tr , on = \"고유선수코드\")\n",
    "test_game = pd.merge(left = test_game ,right = tr , on = \"고유선수코드\")"
   ]
  },
  {
   "cell_type": "code",
   "execution_count": 17,
   "metadata": {},
   "outputs": [],
   "source": [
    "#월별 계절 추가\n",
    "train_game['계절']=train_game.경기코드.apply(lambda x: '봄' if x[4:6] in ['03','04','05'] else '여름')\n",
    "test_game['계절']=train_game.경기코드.apply(lambda x: '봄' if x[4:6] in ['03','04','05'] else '여름')"
   ]
  },
  {
   "cell_type": "code",
   "execution_count": 18,
   "metadata": {},
   "outputs": [],
   "source": [
    "#타구데이터 타구결과별 그룹화.\n",
    "batter_inplay = [ \"1루타\", \"2루타\", \"3루타\", \"홈런\"]\n",
    "inplay = [\"내야안타(1루타)\", \"1루타\", \"2루타\", \"3루타\", \"홈런\"]\n",
    "planplay = [\"번트안타\", \"희생번트\", \"희생플라이\", \"번트아웃\"]\n",
    "outplay = [\"플라이\", \"땅볼아웃\", \"파울플라이\", \"병살타\", \"삼중살타\", \"직선타\", \"인필드플라이\", \"야수선택\"]\n",
    "\n",
    "train_game[\"배럴타구\"] = train_game.apply(lambda x: 1\n",
    "                                    if (x[\"타구종류\"] in batter_inplay)\n",
    "                                    else 0, axis = 1)\n",
    "\n",
    "\n",
    "train_game[\"인플레이타구\"] = train_game.apply(lambda x: 1\n",
    "                                    if (x[\"타구종류\"] in inplay)\n",
    "                                    else 0, axis = 1)\n",
    "\n",
    "train_game[\"작전수행타구\"] = train_game.apply(lambda x: 1\n",
    "                                    if (x[\"타구종류\"] in planplay)\n",
    "                                    else 0, axis = 1)\n",
    "\n",
    "train_game[\"아웃플레이타구\"] = train_game.apply(lambda x: 1\n",
    "                                    if (x[\"타구종류\"] in outplay)\n",
    "                                    else 0, axis = 1)\n",
    "\n",
    "test_game[\"배럴타구\"] = test_game.apply(lambda x: 1\n",
    "                                    if (x[\"타구종류\"] in batter_inplay)\n",
    "                                    else 0, axis = 1)\n",
    "\n",
    "test_game[\"인플레이타구\"] = test_game.apply(lambda x: 1\n",
    "                                    if (x[\"타구종류\"] in inplay)\n",
    "                                    else 0, axis = 1)\n",
    "\n",
    "test_game[\"작전수행타구\"] = test_game.apply(lambda x: 1\n",
    "                                    if (x[\"타구종류\"] in planplay)\n",
    "                                    else 0, axis = 1)\n",
    "\n",
    "test_game[\"아웃플레이타구\"] = test_game.apply(lambda x: 1\n",
    "                                    if (x[\"타구종류\"] in outplay)\n",
    "                                    else 0, axis = 1)"
   ]
  },
  {
   "cell_type": "markdown",
   "metadata": {},
   "source": [
    "# 3.Feature Engineering"
   ]
  },
  {
   "cell_type": "markdown",
   "metadata": {},
   "source": [
    "## EDA로 정의한 배럴타구 활용 피쳐 생성 및 스포츠투아이 제공 타구데이터 활용\n",
    "\n",
    "타구속도와 타구각도범위를 구간화하여 key값으로 결합해 배럴타구 구간을 특정해서 활용"
   ]
  },
  {
   "cell_type": "code",
   "execution_count": 19,
   "metadata": {},
   "outputs": [],
   "source": [
    "def hit_vel(x):\n",
    "    y = int(x)\n",
    "    z = y%2\n",
    "    a = y-z\n",
    "    return a"
   ]
  },
  {
   "cell_type": "code",
   "execution_count": 20,
   "metadata": {},
   "outputs": [],
   "source": [
    "def hit_angle(x):\n",
    "    y = int(x)\n",
    "    z = y%2\n",
    "    a = y-z\n",
    "    return a"
   ]
  },
  {
   "cell_type": "code",
   "execution_count": 21,
   "metadata": {},
   "outputs": [],
   "source": [
    "train_game['타구속도 범위']=train_game.타구속도.apply(lambda x: hit_vel(x))\n",
    "train_game['타구각도 범위']=train_game.발사각도.apply(lambda x: hit_angle(x))\n",
    "\n",
    "test_game['타구속도 범위']=test_game.타구속도.apply(lambda x: hit_vel(x))\n",
    "test_game['타구각도 범위']=test_game.발사각도.apply(lambda x: hit_angle(x))\n"
   ]
  },
  {
   "cell_type": "code",
   "execution_count": 22,
   "metadata": {},
   "outputs": [],
   "source": [
    "train_game['key'] = train_game['타구속도 범위'].astype(str)+\"/\"+train_game['타구각도 범위'].astype(str)#.str.cat(all_hit['타구결과'].astype(str), sep='-')\n",
    "test_game['key'] = test_game['타구속도 범위'].astype(str)+\"/\"+test_game['타구각도 범위'].astype(str)#.str.cat(all_hit['타구결과'].astype(str), sep='-')"
   ]
  },
  {
   "cell_type": "code",
   "execution_count": 23,
   "metadata": {},
   "outputs": [],
   "source": [
    "batter_list=['148/24','148/26','150/24','150/26','150/28','150/30','150/32','152/22','152/24','152/26',\n",
    "'152/28','152/30','152/32','152/34','154/20','154/22','154/24','154/26','154/28','154/30',\n",
    "'154/32','154/34','156/20','156/22','156/24','156/26','156/28','156/30','156/32','156/34',\n",
    "'158/18','158/20','158/22','158/24','158/26','158/28','158/30','158/32','158/34','158/36',\n",
    "'160/18','160/20','160/22','160/24','160/26','160/28','160/30','160/32','160/34','160/36',\n",
    "'160/38','162/18','162/20','162/22','162/24','162/26','162/28','162/30','162/32','162/34',\n",
    "'162/36','162/38','162/40','164/18','164/20','164/22','164/24','164/26','164/28','164/30',\n",
    "'164/32','164/34','164/36','164/38','164/40']\n",
    "\n"
   ]
  },
  {
   "cell_type": "code",
   "execution_count": 24,
   "metadata": {},
   "outputs": [],
   "source": [
    "batter_list2=[]\n",
    "for i in range(166,181,2):\n",
    "    for j in range(16,41,2):\n",
    "        batter2=str(i)+'/'+str(j)\n",
    "        batter_list2.append(batter2)"
   ]
  },
  {
   "cell_type": "code",
   "execution_count": 25,
   "metadata": {},
   "outputs": [],
   "source": [
    "def batter(x):\n",
    "    if x in batter_list:\n",
    "        return 1\n",
    "    elif x in batter_list2:\n",
    "        return 1\n",
    "    "
   ]
  },
  {
   "cell_type": "code",
   "execution_count": 26,
   "metadata": {},
   "outputs": [],
   "source": [
    "train_game['배럴타구여부']=train_game.key.apply(lambda x : batter(x))\n",
    "test_game['배럴타구여부']=test_game.key.apply(lambda x : batter(x))\n",
    "\n"
   ]
  },
  {
   "cell_type": "code",
   "execution_count": 27,
   "metadata": {},
   "outputs": [],
   "source": [
    "train_game.배럴타구여부.fillna(0,inplace=True)\n",
    "train_game['배럴타구여부']=train_game.배럴타구여부.astype(int)\n",
    "\n",
    "test_game.배럴타구여부.fillna(0,inplace=True)\n",
    "test_game['배럴타구여부']=test_game.배럴타구여부.astype(int)"
   ]
  },
  {
   "cell_type": "code",
   "execution_count": 28,
   "metadata": {},
   "outputs": [],
   "source": [
    "X_train=train_game.groupby('고유선수코드')['배럴타구여부'].sum().reset_index()\n",
    "X_test=test_game.groupby('고유선수코드')['배럴타구여부'].sum().reset_index()"
   ]
  },
  {
   "cell_type": "code",
   "execution_count": 29,
   "metadata": {},
   "outputs": [],
   "source": [
    "tr=train_game.groupby('고유선수코드')['팀코드'].agg([('타수','count')]).reset_index()\n",
    "tt=test_game.groupby('고유선수코드')['팀코드'].agg([('타수','count')]).reset_index()\n",
    "X_train = pd.merge(left = X_train ,right = tr , on = \"고유선수코드\")\n",
    "X_test = pd.merge(left = X_test ,right = tt , on = \"고유선수코드\")"
   ]
  },
  {
   "cell_type": "code",
   "execution_count": 30,
   "metadata": {},
   "outputs": [],
   "source": [
    "X_train['배럴타구비율']=X_train['배럴타구여부']/X_train['타수']\n",
    "X_test['배럴타구비율']=X_test['배럴타구여부']/X_test['타수']"
   ]
  },
  {
   "cell_type": "code",
   "execution_count": 31,
   "metadata": {},
   "outputs": [],
   "source": [
    "#가중배럴타구 공식 특정구간 가중치.\n",
    "def barrels(a,b):\n",
    "\n",
    "    m = 148\n",
    "    n = 26\n",
    "    if (a - m <= 2) &  (2 >= n-b >-1):\n",
    "        return 10\n",
    "    elif (2< a - m <= 4) &  (4>= n-b >-2):\n",
    "        return 10\n",
    "    elif (2< a - m <= 6) &  (8 >=n-b>-4):\n",
    "        return 12\n",
    "    elif (2< a - m <= 12) &  (12 >=n-b> -6):\n",
    "        return 16\n",
    "    elif (2< a - m <= 16) &  (12>= n-b >-8):\n",
    "        return 18\n",
    "    elif (2< a - m <= 20) &  (14>= n-b >-8):\n",
    "        return 18\n",
    "    elif (2< a - m <= 40) &  (18>= n-b >-10):\n",
    "        return 20 \n",
    "    else:\n",
    "        return 0\n"
   ]
  },
  {
   "cell_type": "code",
   "execution_count": 32,
   "metadata": {},
   "outputs": [],
   "source": [
    "#가중배럴타구 카운트를 위한 함수\n",
    "def barrels2(a,b):\n",
    "\n",
    "    m = 148\n",
    "    n = 26\n",
    "    if (a - m <= 2) &  (2 >= n-b >-1):\n",
    "        return 1\n",
    "    elif (2< a - m <= 4) &  (4>= n-b >-2):\n",
    "        return 1\n",
    "    elif (2< a - m <= 6) &  (8 >=n-b>-4):\n",
    "        return 1\n",
    "    elif (2< a - m <= 12) &  (12 >=n-b> -6):\n",
    "        return 1\n",
    "    elif (2< a - m <= 16) &  (12>= n-b >-8):\n",
    "        return 1\n",
    "    elif (2< a - m <= 20) &  (14>= n-b >-8):\n",
    "        return 1\n",
    "    elif (2< a - m <= 40) &  (18>= n-b >-10):\n",
    "        return 1 \n",
    "    else:\n",
    "        return 0\n"
   ]
  },
  {
   "cell_type": "code",
   "execution_count": 33,
   "metadata": {},
   "outputs": [],
   "source": [
    "train_game['가중배럴']=train_game.apply(lambda x: barrels(x['타구속도'], x['발사각도']),axis=1)\n",
    "test_game['가중배럴']=test_game.apply(lambda x: barrels(x['타구속도'], x['발사각도']),axis=1)\n"
   ]
  },
  {
   "cell_type": "code",
   "execution_count": 34,
   "metadata": {},
   "outputs": [],
   "source": [
    "train_game['가중배럴2']=train_game.apply(lambda x: barrels2(x['타구속도'], x['발사각도']),axis=1)\n",
    "test_game['가중배럴2']=test_game.apply(lambda x: barrels2(x['타구속도'], x['발사각도']),axis=1)\n"
   ]
  },
  {
   "cell_type": "code",
   "execution_count": 35,
   "metadata": {},
   "outputs": [],
   "source": [
    "tr3 = train_game.groupby('고유선수코드')['가중배럴'].sum().reset_index()\n",
    "X_train = pd.merge(left = X_train ,right = tr3 , on = \"고유선수코드\")\n",
    "\n",
    "tr4 = test_game.groupby('고유선수코드')['가중배럴'].sum().reset_index()\n",
    "X_test = pd.merge(left = X_test ,right = tr4 , on = \"고유선수코드\")"
   ]
  },
  {
   "cell_type": "code",
   "execution_count": 36,
   "metadata": {},
   "outputs": [],
   "source": [
    "tr2 = train_game.groupby('고유선수코드')['가중배럴2'].sum().reset_index()\n",
    "tr2 = tr2.rename(columns = {'가중배럴2':'가중배럴카운트'})\n",
    "\n",
    "tr3 = test_game.groupby('고유선수코드')['가중배럴2'].sum().reset_index()\n",
    "tr3 = tr3.rename(columns = {'가중배럴2':'가중배럴카운트'})\n"
   ]
  },
  {
   "cell_type": "code",
   "execution_count": 37,
   "metadata": {},
   "outputs": [],
   "source": [
    "X_train = pd.merge(left = X_train ,right = tr2 , on = \"고유선수코드\")\n",
    "X_test = pd.merge(left = X_test ,right = tr3 , on = \"고유선수코드\")"
   ]
  },
  {
   "cell_type": "code",
   "execution_count": 38,
   "metadata": {},
   "outputs": [],
   "source": [
    "tr=train_game.groupby('고유선수코드')['타구속도'].mean().reset_index()\n",
    "tt=test_game.groupby('고유선수코드')['타구속도'].mean().reset_index()\n",
    "\n",
    "X_train = pd.merge(left = X_train ,right = tr , on = \"고유선수코드\")\n",
    "X_test = pd.merge(left = X_test ,right = tt , on = \"고유선수코드\")\n",
    "\n",
    "tr=train_game.groupby('고유선수코드')['발사각도'].mean().reset_index()\n",
    "tt=test_game.groupby('고유선수코드')['발사각도'].mean().reset_index()\n",
    "\n",
    "X_train = pd.merge(left = X_train ,right = tr , on = \"고유선수코드\")\n",
    "X_test = pd.merge(left = X_test ,right = tt , on = \"고유선수코드\")"
   ]
  },
  {
   "cell_type": "code",
   "execution_count": 39,
   "metadata": {},
   "outputs": [],
   "source": [
    "tr=train_game.pivot_table(values = \"팀코드\", index = '고유선수코드', columns = \"경기장\", aggfunc = \"count\",fill_value=0).reset_index()\n",
    "tt=test_game.pivot_table(values = \"팀코드\", index = '고유선수코드', columns = \"경기장\", aggfunc = \"count\",fill_value=0).reset_index()\n",
    "\n",
    "X_train = pd.merge(left = X_train ,right = tr , on = \"고유선수코드\")\n",
    "X_test = pd.merge(left = X_test ,right = tt , on = \"고유선수코드\")"
   ]
  },
  {
   "cell_type": "code",
   "execution_count": 40,
   "metadata": {},
   "outputs": [],
   "source": [
    "#2019년도에 마산 종합 운동장 -> 창원으로 \n",
    "X_train['마산_창원']=X_train['마산']+X_train['창원']\n",
    "X_test['마산_창원']=X_test['창원']"
   ]
  },
  {
   "cell_type": "code",
   "execution_count": 41,
   "metadata": {},
   "outputs": [],
   "source": [
    "X_train.drop(['마산','창원'],axis=1,inplace=True)\n",
    "X_test.drop('창원',axis=1,inplace=True)"
   ]
  },
  {
   "cell_type": "code",
   "execution_count": 42,
   "metadata": {},
   "outputs": [],
   "source": [
    "tr=train_game.pivot_table(values = \"팀코드\", index = '고유선수코드', columns = \"이닝\", aggfunc = \"count\",fill_value=0)\n",
    "tt=test_game.pivot_table(values = \"팀코드\", index = '고유선수코드', columns = \"이닝\", aggfunc = \"count\",fill_value=0)\n",
    "\n",
    "X_train = pd.merge(left = X_train ,right = tr , on = \"고유선수코드\")\n",
    "X_test = pd.merge(left = X_test ,right = tt , on = \"고유선수코드\")"
   ]
  },
  {
   "cell_type": "code",
   "execution_count": 43,
   "metadata": {},
   "outputs": [],
   "source": [
    "tr = train_game.groupby('고유선수코드')['경기장'].agg([\n",
    "    ('주경기장', lambda x: x.mode()[0])\n",
    "]).reset_index()\n",
    "tt = test_game.groupby('고유선수코드')['경기장'].agg([\n",
    "    ('주경기장', lambda x: x.mode()[0])\n",
    "]).reset_index()\n",
    "X_train = pd.merge(left = X_train ,right = tr , on = \"고유선수코드\")\n",
    "X_test = pd.merge(left = X_test ,right = tt , on = \"고유선수코드\")\n"
   ]
  },
  {
   "cell_type": "code",
   "execution_count": 44,
   "metadata": {},
   "outputs": [],
   "source": [
    "#파크팩터 선수들별 주경기장 파크팩터 추가\n",
    "def parkfactor(x):\n",
    "    if x =='수원':\n",
    "        return 1020\n",
    "    elif x =='잠실':\n",
    "        return 939\n",
    "    elif x =='고척':\n",
    "        return 995\n",
    "    elif x =='대구':\n",
    "        return 1062\n",
    "    elif x =='대전':\n",
    "        return 1025\n",
    "    elif x =='사직':\n",
    "        return 1041\n",
    "    elif x =='광주':\n",
    "        return 1004\n",
    "    elif x =='문학':\n",
    "        return 971\n",
    "    elif x =='마산':\n",
    "        return 964\n",
    "    elif x =='창원':\n",
    "        return 1035\n",
    "    \n",
    "    \n",
    "    \n",
    "    "
   ]
  },
  {
   "cell_type": "code",
   "execution_count": 45,
   "metadata": {},
   "outputs": [],
   "source": [
    "X_train['PF']=X_train.주경기장.apply(lambda x : parkfactor(x))\n",
    "X_test['PF']=X_test.주경기장.apply(lambda x : parkfactor(x))"
   ]
  },
  {
   "cell_type": "code",
   "execution_count": 46,
   "metadata": {},
   "outputs": [],
   "source": [
    "X_train.drop('주경기장',axis=1,inplace=True)\n",
    "X_test.drop('주경기장',axis=1,inplace=True)"
   ]
  },
  {
   "cell_type": "code",
   "execution_count": 47,
   "metadata": {},
   "outputs": [],
   "source": [
    "tr=train_game.pivot_table(values = \"팀코드\", index = '고유선수코드', columns = \"인플레이타구\", aggfunc = \"count\",fill_value=0).reset_index()\n",
    "tt=test_game.pivot_table(values = \"팀코드\", index = '고유선수코드', columns = \"인플레이타구\", aggfunc = \"count\",fill_value=0).reset_index()\n",
    "\n",
    "tr.drop(0,axis=1,inplace=True)\n",
    "tt.drop(0,axis=1,inplace=True)\n",
    "tr.rename(columns = {1:'인플레이수'}, inplace = True)\n",
    "tt.rename(columns = {1:'인플레이수'}, inplace = True)\n",
    "X_train = pd.merge(left = X_train ,right = tr , on = \"고유선수코드\")\n",
    "X_test = pd.merge(left = X_test ,right = tt , on = \"고유선수코드\")"
   ]
  },
  {
   "cell_type": "code",
   "execution_count": 48,
   "metadata": {},
   "outputs": [],
   "source": [
    "tr=train_game.pivot_table(values = \"팀코드\", index = '고유선수코드', columns = \"아웃플레이타구\", aggfunc = \"count\",fill_value=0).reset_index()\n",
    "tt=test_game.pivot_table(values = \"팀코드\", index = '고유선수코드', columns = \"아웃플레이타구\", aggfunc = \"count\",fill_value=0).reset_index()\n",
    "\n",
    "tr.drop(0,axis=1,inplace=True)\n",
    "tt.drop(0,axis=1,inplace=True)\n",
    "tr.rename(columns = {1:'아웃플레이수'}, inplace = True)\n",
    "tt.rename(columns = {1:'아웃플레이수'}, inplace = True)\n",
    "X_train = pd.merge(left = X_train ,right = tr , on = \"고유선수코드\")\n",
    "X_test = pd.merge(left = X_test ,right = tt , on = \"고유선수코드\")"
   ]
  },
  {
   "cell_type": "code",
   "execution_count": 49,
   "metadata": {},
   "outputs": [],
   "source": [
    "tr=train_game.pivot_table(values = \"팀코드\", index = '고유선수코드', columns = \"작전수행타구\", aggfunc = \"count\",fill_value=0).reset_index()\n",
    "tt=test_game.pivot_table(values = \"팀코드\", index = '고유선수코드', columns = \"작전수행타구\", aggfunc = \"count\",fill_value=0).reset_index()\n",
    "\n",
    "tr.drop(0,axis=1,inplace=True)\n",
    "tt.drop(0,axis=1,inplace=True)\n",
    "tr.rename(columns = {1:'작전수행타구수'}, inplace = True)\n",
    "tt.rename(columns = {1:'작전수행타구수'}, inplace = True)\n",
    "X_train = pd.merge(left = X_train ,right = tr , on = \"고유선수코드\")\n",
    "X_test = pd.merge(left = X_test ,right = tt , on = \"고유선수코드\")"
   ]
  },
  {
   "cell_type": "markdown",
   "metadata": {},
   "source": [
    "## 3-1  STATIZ 크롤링 데이터로 피쳐추가"
   ]
  },
  {
   "cell_type": "code",
   "execution_count": 50,
   "metadata": {},
   "outputs": [],
   "source": [
    "#7월 비율 계산을 위한 활용을 하고 8월말 라수로 제외\n",
    "X_train.drop('타수',axis=1,inplace=True)\n",
    "X_test.drop('타수',axis=1,inplace=True)"
   ]
  },
  {
   "cell_type": "code",
   "execution_count": 51,
   "metadata": {},
   "outputs": [],
   "source": [
    "tr=player_features.groupby('고유선수코드')['타수'].sum().reset_index()\n",
    "tt=player_features.groupby('고유선수코드')['타수'].sum().reset_index()\n",
    "X_train = pd.merge(left = X_train ,right = tr , on = \"고유선수코드\")\n",
    "X_test = pd.merge(left = X_test ,right = tt , on = \"고유선수코드\")"
   ]
  },
  {
   "cell_type": "code",
   "execution_count": 52,
   "metadata": {},
   "outputs": [],
   "source": [
    "tr=player_features.groupby('고유선수코드')['득점'].sum().reset_index()\n",
    "tt=player_features.groupby('고유선수코드')['득점'].sum().reset_index()\n",
    "X_train = pd.merge(left = X_train ,right = tr , on = \"고유선수코드\")\n",
    "X_test = pd.merge(left = X_test ,right = tt , on = \"고유선수코드\")"
   ]
  },
  {
   "cell_type": "code",
   "execution_count": 53,
   "metadata": {},
   "outputs": [],
   "source": [
    "tr=player_features.groupby('고유선수코드')['안타'].sum().reset_index()\n",
    "tt=player_features.groupby('고유선수코드')['안타'].sum().reset_index()\n",
    "X_train = pd.merge(left = X_train ,right = tr , on = \"고유선수코드\")\n",
    "X_test = pd.merge(left = X_test ,right = tt , on = \"고유선수코드\")"
   ]
  },
  {
   "cell_type": "code",
   "execution_count": 54,
   "metadata": {},
   "outputs": [],
   "source": [
    "tr=player_features.groupby('고유선수코드')['타점'].sum().reset_index()\n",
    "tt=player_features.groupby('고유선수코드')['타점'].sum().reset_index()\n",
    "X_train = pd.merge(left = X_train ,right = tr , on = \"고유선수코드\")\n",
    "X_test = pd.merge(left = X_test ,right = tt , on = \"고유선수코드\")"
   ]
  },
  {
   "cell_type": "code",
   "execution_count": 55,
   "metadata": {},
   "outputs": [],
   "source": [
    "tr=player_features.groupby('고유선수코드')['도루'].sum().reset_index()\n",
    "tt=player_features.groupby('고유선수코드')['도루'].sum().reset_index()\n",
    "X_train = pd.merge(left = X_train ,right = tr , on = \"고유선수코드\")\n",
    "X_test = pd.merge(left = X_test ,right = tt , on = \"고유선수코드\")"
   ]
  },
  {
   "cell_type": "code",
   "execution_count": 56,
   "metadata": {},
   "outputs": [],
   "source": [
    "tr=player_features.groupby('고유선수코드')['도실'].sum().reset_index()\n",
    "tt=player_features.groupby('고유선수코드')['도실'].sum().reset_index()\n",
    "X_train = pd.merge(left = X_train ,right = tr , on = \"고유선수코드\")\n",
    "X_test = pd.merge(left = X_test ,right = tt , on = \"고유선수코드\")"
   ]
  },
  {
   "cell_type": "code",
   "execution_count": 57,
   "metadata": {},
   "outputs": [],
   "source": [
    "tr=player_features.groupby('고유선수코드')['고의사구'].sum().reset_index()\n",
    "tt=player_features.groupby('고유선수코드')['고의사구'].sum().reset_index()\n",
    "X_train = pd.merge(left = X_train ,right = tr , on = \"고유선수코드\")\n",
    "X_test = pd.merge(left = X_test ,right = tt , on = \"고유선수코드\")"
   ]
  },
  {
   "cell_type": "code",
   "execution_count": 58,
   "metadata": {},
   "outputs": [],
   "source": [
    "tr=player_features.groupby('고유선수코드')['볼넷'].sum().reset_index()\n",
    "tt=player_features.groupby('고유선수코드')['볼넷'].sum().reset_index()\n",
    "X_train = pd.merge(left = X_train ,right = tr , on = \"고유선수코드\")\n",
    "X_test = pd.merge(left = X_test ,right = tt , on = \"고유선수코드\")"
   ]
  },
  {
   "cell_type": "code",
   "execution_count": 59,
   "metadata": {},
   "outputs": [],
   "source": [
    "#제외할예정\n",
    "tr=player_features.groupby('고유선수코드')['사구'].sum().reset_index()\n",
    "tt=player_features.groupby('고유선수코드')['사구'].sum().reset_index()\n",
    "X_train = pd.merge(left = X_train ,right = tr , on = \"고유선수코드\")\n",
    "X_test = pd.merge(left = X_test ,right = tt , on = \"고유선수코드\")"
   ]
  },
  {
   "cell_type": "code",
   "execution_count": 60,
   "metadata": {},
   "outputs": [],
   "source": [
    "\n",
    "tr=player_features.groupby('고유선수코드')['2타'].sum().reset_index()\n",
    "tt=player_features.groupby('고유선수코드')['2타'].sum().reset_index()\n",
    "X_train = pd.merge(left = X_train ,right = tr , on = \"고유선수코드\")\n",
    "X_test = pd.merge(left = X_test ,right = tt , on = \"고유선수코드\")"
   ]
  },
  {
   "cell_type": "code",
   "execution_count": 61,
   "metadata": {},
   "outputs": [],
   "source": [
    "tr=player_features.groupby('고유선수코드')['3타'].sum().reset_index()\n",
    "tt=player_features.groupby('고유선수코드')['3타'].sum().reset_index()\n",
    "X_train = pd.merge(left = X_train ,right = tr , on = \"고유선수코드\")\n",
    "X_test = pd.merge(left = X_test ,right = tt , on = \"고유선수코드\")"
   ]
  },
  {
   "cell_type": "code",
   "execution_count": 62,
   "metadata": {},
   "outputs": [],
   "source": [
    "tr=player_features.groupby('고유선수코드')['홈런'].sum().reset_index()\n",
    "tt=player_features.groupby('고유선수코드')['홈런'].sum().reset_index()\n",
    "X_train = pd.merge(left = X_train ,right = tr , on = \"고유선수코드\")\n",
    "X_test = pd.merge(left = X_test ,right = tt , on = \"고유선수코드\")"
   ]
  },
  {
   "cell_type": "code",
   "execution_count": 63,
   "metadata": {},
   "outputs": [],
   "source": [
    "tr=player_features.groupby('고유선수코드')['선발'].sum().reset_index()\n",
    "tt=player_features.groupby('고유선수코드')['선발'].sum().reset_index()\n",
    "X_train = pd.merge(left = X_train ,right = tr , on = \"고유선수코드\")\n",
    "X_test = pd.merge(left = X_test ,right = tt , on = \"고유선수코드\")"
   ]
  },
  {
   "cell_type": "code",
   "execution_count": 64,
   "metadata": {},
   "outputs": [],
   "source": [
    "tr=player_features.groupby('고유선수코드')['일자'].count().reset_index()\n",
    "tt=player_features.groupby('고유선수코드')['일자'].count().reset_index()\n",
    "X_train = pd.merge(left = X_train ,right = tr , on = \"고유선수코드\")\n",
    "X_test = pd.merge(left = X_test ,right = tt , on = \"고유선수코드\")"
   ]
  },
  {
   "cell_type": "code",
   "execution_count": 65,
   "metadata": {},
   "outputs": [],
   "source": [
    "tr = player_features.groupby('고유선수코드')['타순'].agg([\n",
    "    ('최빈타순', lambda x: x.mode()[0])\n",
    "]).reset_index()\n",
    "tt = player_features.groupby('고유선수코드')['타순'].agg([\n",
    "    ('최빈타순', lambda x: x.mode()[0])\n",
    "]).reset_index()\n",
    "X_train = pd.merge(left = X_train ,right = tr , on = \"고유선수코드\")\n",
    "X_test = pd.merge(left = X_test ,right = tt , on = \"고유선수코드\")"
   ]
  },
  {
   "cell_type": "code",
   "execution_count": 66,
   "metadata": {},
   "outputs": [],
   "source": [
    "tr=player_features.groupby('고유선수코드')['삼진'].sum().reset_index()\n",
    "tt=player_features.groupby('고유선수코드')['삼진'].sum().reset_index()\n",
    "X_train = pd.merge(left = X_train ,right = tr , on = \"고유선수코드\")\n",
    "X_test = pd.merge(left = X_test ,right = tt , on = \"고유선수코드\")"
   ]
  },
  {
   "cell_type": "code",
   "execution_count": 67,
   "metadata": {},
   "outputs": [],
   "source": [
    "tr=player_features.groupby('고유선수코드')['병살'].sum().reset_index()\n",
    "tt=player_features.groupby('고유선수코드')['병살'].sum().reset_index()\n",
    "X_train = pd.merge(left = X_train ,right = tr , on = \"고유선수코드\")\n",
    "X_test = pd.merge(left = X_test ,right = tt , on = \"고유선수코드\")"
   ]
  },
  {
   "cell_type": "code",
   "execution_count": 68,
   "metadata": {},
   "outputs": [],
   "source": [
    "tr=player_features.groupby('고유선수코드')['희타'].sum().reset_index()\n",
    "tt=player_features.groupby('고유선수코드')['희타'].sum().reset_index()\n",
    "X_train = pd.merge(left = X_train ,right = tr , on = \"고유선수코드\")\n",
    "X_test = pd.merge(left = X_test ,right = tt , on = \"고유선수코드\")"
   ]
  },
  {
   "cell_type": "code",
   "execution_count": 69,
   "metadata": {},
   "outputs": [],
   "source": [
    "tr=player_features.groupby('고유선수코드')['희비'].sum().reset_index()\n",
    "tt=player_features.groupby('고유선수코드')['희비'].sum().reset_index()\n",
    "X_train = pd.merge(left = X_train ,right = tr , on = \"고유선수코드\")\n",
    "X_test = pd.merge(left = X_test ,right = tt , on = \"고유선수코드\")"
   ]
  },
  {
   "cell_type": "code",
   "execution_count": 70,
   "metadata": {},
   "outputs": [],
   "source": [
    "tr=player_features.groupby('고유선수코드')['루타'].sum().reset_index()\n",
    "tt=player_features.groupby('고유선수코드')['루타'].sum().reset_index()\n",
    "X_train = pd.merge(left = X_train ,right = tr , on = \"고유선수코드\")\n",
    "X_test = pd.merge(left = X_test ,right = tt , on = \"고유선수코드\")"
   ]
  },
  {
   "cell_type": "code",
   "execution_count": 71,
   "metadata": {},
   "outputs": [],
   "source": [
    "X_train['타석']=X_train['타수']+X_train['볼넷']+X_train['사구']+X_train['희타']+X_train['희비']\n",
    "X_test['타석']=X_test['타수']+X_test['볼넷']+X_test['사구']+X_test['희타']+X_test['희비']"
   ]
  },
  {
   "cell_type": "code",
   "execution_count": 72,
   "metadata": {},
   "outputs": [],
   "source": [
    "X_train['1루타']=X_train['안타']-X_train['2타']-X_train['3타']-X_train['홈런']\n",
    "X_test['1루타']=X_test['안타']-X_test['2타']-X_test['3타']-X_test['홈런']"
   ]
  },
  {
   "cell_type": "code",
   "execution_count": 73,
   "metadata": {},
   "outputs": [],
   "source": [
    "X_train['타수대비득점비율']=X_train.득점/X_train.타수\n",
    "X_test['타수대비득점비율']=X_test.득점/X_test.타수"
   ]
  },
  {
   "cell_type": "code",
   "execution_count": 74,
   "metadata": {},
   "outputs": [],
   "source": [
    "X_train['도루성공률'] = X_train.도루/(X_train.도루+X_train.도실)\n",
    "X_train.fillna(0,inplace=True)\n",
    "X_test['도루성공률'] = X_test.도루/(X_test.도루+X_test.도실)\n",
    "X_test.fillna(0,inplace=True)"
   ]
  },
  {
   "cell_type": "code",
   "execution_count": 75,
   "metadata": {},
   "outputs": [],
   "source": [
    "X_train['타수대비도루성공비율']=X_train.도루/X_train.타수\n",
    "X_test['타수대비도루성공비율']=X_test.도루/X_test.타수"
   ]
  },
  {
   "cell_type": "code",
   "execution_count": 76,
   "metadata": {},
   "outputs": [],
   "source": [
    "X_train['2루타비율']=X_train['2타']/X_train.타수\n",
    "X_test['2루타비율']=X_test['2타']/X_test.타수"
   ]
  },
  {
   "cell_type": "code",
   "execution_count": 77,
   "metadata": {},
   "outputs": [],
   "source": [
    "X_train['3루타비율']=X_train['3타']/X_train.타수\n",
    "X_test['3루타비율']=X_test['3타']/X_test.타수"
   ]
  },
  {
   "cell_type": "code",
   "execution_count": 78,
   "metadata": {},
   "outputs": [],
   "source": [
    "X_train['홈런당평균타수']=X_train.홈런/X_train.타수\n",
    "X_test['홈런당평균타수']=X_test.홈런/X_test.타수"
   ]
  },
  {
   "cell_type": "code",
   "execution_count": 79,
   "metadata": {},
   "outputs": [],
   "source": [
    "X_train['장타수']=X_train['2타']+X_train['3타']+X_train['홈런']\n",
    "X_test['장타수']=X_test['2타']+X_test['3타']+X_test['홈런']"
   ]
  },
  {
   "cell_type": "code",
   "execution_count": 80,
   "metadata": {},
   "outputs": [],
   "source": [
    "X_train['경기수대비선발비율']=X_train.선발/X_train.일자\n",
    "X_test['경기수대비선발비율']=X_test.선발/X_test.일자"
   ]
  },
  {
   "cell_type": "code",
   "execution_count": 81,
   "metadata": {},
   "outputs": [],
   "source": [
    "X_train['안타대비득점']=X_train.득점/X_train.안타\n",
    "X_test['안타대비득점']=X_test.득점/X_test.안타"
   ]
  },
  {
   "cell_type": "code",
   "execution_count": 82,
   "metadata": {},
   "outputs": [],
   "source": [
    "X_train['안타대비타점']=X_train.타점/X_train.안타\n",
    "X_test['안타대비타점']=X_test.타점/X_test.안타"
   ]
  },
  {
   "cell_type": "code",
   "execution_count": 83,
   "metadata": {},
   "outputs": [],
   "source": [
    "X_train['안타대비2루타비율']=X_train['2타']/X_train.안타\n",
    "X_test['안타대비2루타비율']=X_test['2타']/X_test.안타"
   ]
  },
  {
   "cell_type": "code",
   "execution_count": 84,
   "metadata": {},
   "outputs": [],
   "source": [
    "X_train['안타대비2루타비율']=X_train['3타']/X_train.안타\n",
    "X_test['안타대비2루타비율']=X_test['3타']/X_test.안타"
   ]
  },
  {
   "cell_type": "code",
   "execution_count": 85,
   "metadata": {},
   "outputs": [],
   "source": [
    "X_train['안타대비2루타비율']=X_train['홈런']/X_train.안타\n",
    "X_test['안타대비2루타비율']=X_test['홈런']/X_test.안타"
   ]
  },
  {
   "cell_type": "code",
   "execution_count": 86,
   "metadata": {},
   "outputs": [],
   "source": [
    "#X_train['아웃플레이수']=X_train['도실']+X_train['삼진']+X_train['병살']\n",
    "#X_test['아웃플레이수']=X_test['도실']+X_test['삼진']+X_test['병살']"
   ]
  },
  {
   "cell_type": "code",
   "execution_count": 87,
   "metadata": {},
   "outputs": [],
   "source": [
    "#X_train['작전수행수']=X_train['희타']+X_train['희비']+X_train['볼넷']\n",
    "#X_test['작전수행수']=X_test['희타']+X_test['희비']+X_test['볼넷']"
   ]
  },
  {
   "cell_type": "code",
   "execution_count": 88,
   "metadata": {},
   "outputs": [],
   "source": [
    "player_features['계절'] = player_features.일자.apply(lambda x : '봄' if x.split('-')[0] in ['03','04','05'] else('여름' if x.split('-')[0] in ['06','07','08'] else '가을'))"
   ]
  },
  {
   "cell_type": "code",
   "execution_count": 89,
   "metadata": {},
   "outputs": [],
   "source": [
    "for year in [2018,2019,2020,2021]:\n",
    "    year = str(year)\n",
    "    season_hit = player_features.groupby(['고유선수코드','계절'])['안타'].agg([('계절별 평균안타',np.sum)]).reset_index()\n",
    "    tt = pd.pivot_table(season_hit,index='고유선수코드',columns='계절',values='계절별 평균안타').reset_index()\n",
    "    tt.columns = ['고유선수코드'] + [str(x)+'_안타횟수' for x in tt.columns[1:]]\n",
    "    tt.fillna(0,inplace=True)"
   ]
  },
  {
   "cell_type": "code",
   "execution_count": 90,
   "metadata": {},
   "outputs": [],
   "source": [
    "X_train['봄안타비율']=tt.봄_안타횟수/X_train['안타']\n",
    "X_test['봄안타비율']=tt.봄_안타횟수/X_test['안타']"
   ]
  },
  {
   "cell_type": "code",
   "execution_count": 91,
   "metadata": {},
   "outputs": [],
   "source": [
    "X_train['여름안타비율']=tt.여름_안타횟수/X_train['안타']\n",
    "X_test['여름안타비율']=tt.여름_안타횟수/X_test['안타']"
   ]
  },
  {
   "cell_type": "code",
   "execution_count": 92,
   "metadata": {},
   "outputs": [],
   "source": [
    "player_features['타율2'] = player_features.안타 / player_features.타수\n",
    "for year in [2018,2019,2020,2021]:\n",
    "    year = str(year)\n",
    "    s_hit = player_features.groupby(['고유선수코드','계절'])['타율2'].agg([('계절별 평균타율',np.mean)]).reset_index()\n",
    "    tt = pd.pivot_table(s_hit,index='고유선수코드',columns='계절',values='계절별 평균타율').reset_index()\n",
    "    tt.columns = ['고유선수코드'] + [str(x)+'_평균타율' for x in tt.columns[1:]]\n",
    "    tt.fillna(0,inplace=True)\n",
    "    #globals()['f{}_320'.format(year[2:])] = globals()['f{}_320'.format(year[2:])].merge(f,on='팀코드')\n",
    "#hit_tt = hit_tt.drop(['계절','타율'],axis=1)\n",
    "#f20_320"
   ]
  },
  {
   "cell_type": "code",
   "execution_count": 93,
   "metadata": {},
   "outputs": [],
   "source": [
    "X_train = pd.merge(left = X_train ,right = tt , on = \"고유선수코드\")\n",
    "X_test = pd.merge(left = X_test ,right = tt , on = \"고유선수코드\")"
   ]
  },
  {
   "cell_type": "code",
   "execution_count": 94,
   "metadata": {},
   "outputs": [],
   "source": [
    "for year in [2018,2019,2020,2021]:\n",
    "    year = str(year)\n",
    "    s_hit = train_game.groupby(['고유선수코드','계절'])['배럴타구여부'].agg([('계절별 배럴합',np.sum)]).reset_index()\n",
    "    tr = pd.pivot_table(s_hit,index='고유선수코드',columns='계절',values='계절별 배럴합').reset_index()\n",
    "    tr.columns = ['고유선수코드'] + [str(x)+'_배럴합' for x in tr.columns[1:]]\n",
    "    tr.fillna(0,inplace=True)"
   ]
  },
  {
   "cell_type": "code",
   "execution_count": 95,
   "metadata": {},
   "outputs": [],
   "source": [
    "for year in [2018,2019,2020,2021]:\n",
    "    year = str(year)\n",
    "    s_hit = train_game.groupby(['고유선수코드','계절'])['인플레이타구'].agg([('계절별 인플레이타구수',np.sum)]).reset_index()\n",
    "    anta = pd.pivot_table(s_hit,index='고유선수코드',columns='계절',values='계절별 인플레이타구수').reset_index()\n",
    "    anta.columns = ['고유선수코드'] + [str(x)+'_인플레이타구수' for x in anta.columns[1:]]\n",
    "    anta.fillna(0,inplace=True)"
   ]
  },
  {
   "cell_type": "code",
   "execution_count": 96,
   "metadata": {},
   "outputs": [],
   "source": [
    "for year in [2018,2019,2020,2021]:\n",
    "    year = str(year)\n",
    "    s_hit = test_game.groupby(['고유선수코드','계절'])['배럴타구여부'].agg([('계절별 배럴합',np.sum)]).reset_index()\n",
    "    tt = pd.pivot_table(s_hit,index='고유선수코드',columns='계절',values='계절별 배럴합').reset_index()\n",
    "    tt.columns = ['고유선수코드'] + [str(x)+'_배럴합' for x in tt.columns[1:]]\n",
    "    tt.fillna(0,inplace=True)"
   ]
  },
  {
   "cell_type": "code",
   "execution_count": 97,
   "metadata": {},
   "outputs": [],
   "source": [
    "for year in [2018,2019,2020,2021]:\n",
    "    year = str(year)\n",
    "    s_hit = test_game.groupby(['고유선수코드','계절'])['인플레이타구'].agg([('계절별 인플레이타구수',np.sum)]).reset_index()\n",
    "    anta_test = pd.pivot_table(s_hit,index='고유선수코드',columns='계절',values='계절별 인플레이타구수').reset_index()\n",
    "    anta_test.columns = ['고유선수코드'] + [str(x)+'_인플레이타구수' for x in anta_test.columns[1:]]\n",
    "    anta_test.fillna(0,inplace=True)"
   ]
  },
  {
   "cell_type": "code",
   "execution_count": 98,
   "metadata": {},
   "outputs": [],
   "source": [
    "X_train['봄배럴타구비율']=tr.봄_배럴합/anta.봄_인플레이타구수\n",
    "X_test['봄배럴타구비율']=tt.봄_배럴합/anta_test.봄_인플레이타구수"
   ]
  },
  {
   "cell_type": "code",
   "execution_count": 99,
   "metadata": {},
   "outputs": [],
   "source": [
    "X_train['여름배럴타구비율']=tr.여름_배럴합/anta.여름_인플레이타구수\n",
    "X_test['여름배럴타구비율']=tt.여름_배럴합/anta_test.여름_인플레이타구수"
   ]
  },
  {
   "cell_type": "code",
   "execution_count": 100,
   "metadata": {},
   "outputs": [],
   "source": [
    "for year in [2018,2019,2020,2021]:\n",
    "    year = str(year)\n",
    "    s_hit = train_game.groupby(['고유선수코드','계절'])['가중배럴2'].agg([('계절별 가중배럴카운트',np.sum)]).reset_index()\n",
    "    tr = pd.pivot_table(s_hit,index='고유선수코드',columns='계절',values='계절별 가중배럴카운트').reset_index()\n",
    "    tr.columns = ['고유선수코드'] + [str(x)+'_가중배럴카운트' for x in tr.columns[1:]]\n",
    "    tr.fillna(0,inplace=True)"
   ]
  },
  {
   "cell_type": "code",
   "execution_count": 101,
   "metadata": {},
   "outputs": [],
   "source": [
    "for year in [2018,2019,2020,2021]:\n",
    "    year = str(year)\n",
    "    s_hit = test_game.groupby(['고유선수코드','계절'])['가중배럴2'].agg([('계절별 가중배럴카운트',np.sum)]).reset_index()\n",
    "    tt = pd.pivot_table(s_hit,index='고유선수코드',columns='계절',values='계절별 가중배럴카운트').reset_index()\n",
    "    tt.columns = ['고유선수코드'] + [str(x)+'_가중배럴카운트' for x in tt.columns[1:]]\n",
    "    tt.fillna(0,inplace=True)"
   ]
  },
  {
   "cell_type": "code",
   "execution_count": 102,
   "metadata": {},
   "outputs": [],
   "source": [
    "X_train['봄가중배럴타구비율']=tr.봄_가중배럴카운트/anta.봄_인플레이타구수\n",
    "X_test['봄가중배럴타구비율']=tt.봄_가중배럴카운트/anta_test.봄_인플레이타구수"
   ]
  },
  {
   "cell_type": "code",
   "execution_count": 103,
   "metadata": {},
   "outputs": [],
   "source": [
    "X_train['여름가중배럴타구비율']=tr.여름_가중배럴카운트/anta.여름_인플레이타구수\n",
    "X_test['여름가중배럴타구비율']=tt.여름_가중배럴카운트/anta_test.여름_인플레이타구수"
   ]
  },
  {
   "cell_type": "code",
   "execution_count": 104,
   "metadata": {},
   "outputs": [],
   "source": [
    "player_features[\"월\"]=player_features[\"일자\"].apply(lambda x:x[:2]).astype(\"str\")"
   ]
  },
  {
   "cell_type": "code",
   "execution_count": 105,
   "metadata": {},
   "outputs": [],
   "source": [
    "player_features[\"일\"] = player_features[\"일자\"].apply(lambda x:x[3:]).astype(\"str\")"
   ]
  },
  {
   "cell_type": "code",
   "execution_count": 106,
   "metadata": {},
   "outputs": [],
   "source": [
    "def str_cut(seq, length):\n",
    "    return [''.join(x) for x in zip(*[list(seq[z::length]) for z in range(length)])]"
   ]
  },
  {
   "cell_type": "code",
   "execution_count": 107,
   "metadata": {},
   "outputs": [],
   "source": [
    "player_features_2018 = player_features[player_features.년도 == 2018]\n",
    "\n",
    "f = player_features_2018.groupby([\"월\"])[\"일\"].agg([('일자문자',\"sum\")]).reset_index()\n",
    "\n",
    "f.일자문자 = f.일자문자.apply(lambda x: str_cut(x,2))\n",
    "\n",
    "sort_list = []\n",
    "for i in range(len(f.일자문자)):\n",
    "    sort_list.append(sorted(list(set(f.일자문자[i]))))\n",
    "\n",
    "sort_list_2 = []\n",
    "for i in range(len(f.일자문자)):\n",
    "    for j in range(len(sort_list[i])):\n",
    "        day = f.월[i] + \"-\" + sort_list[i][j]\n",
    "        sort_list_2.append(day)\n",
    "\n",
    "sort_dic = dict()\n",
    "for i in range(len(sort_list_2)):\n",
    "    sort_dic[sort_list_2[i]] = str(i)\n",
    "\n",
    "player_features_2018[\"교정일자\"] = player_features_2018.일자.apply(lambda x:sort_dic[x])"
   ]
  },
  {
   "cell_type": "code",
   "execution_count": 108,
   "metadata": {},
   "outputs": [],
   "source": [
    "player_features_2019 = player_features[player_features.년도 == 2019]\n",
    "\n",
    "f = player_features_2019.groupby([\"월\"])[\"일\"].agg([('일자문자',\"sum\")]).reset_index()\n",
    "\n",
    "f.일자문자 = f.일자문자.apply(lambda x: str_cut(x,2))\n",
    "\n",
    "sort_list = []\n",
    "for i in range(len(f.일자문자)):\n",
    "    sort_list.append(sorted(list(set(f.일자문자[i]))))\n",
    "\n",
    "sort_list_2 = []\n",
    "for i in range(len(f.일자문자)):\n",
    "    for j in range(len(sort_list[i])):\n",
    "        day = f.월[i] + \"-\" + sort_list[i][j]\n",
    "        sort_list_2.append(day)\n",
    "\n",
    "sort_dic = dict()\n",
    "for i in range(len(sort_list_2)):\n",
    "    sort_dic[sort_list_2[i]] = str(i)\n",
    "\n",
    "player_features_2019[\"교정일자\"] = player_features_2019.일자.apply(lambda x:sort_dic[x])"
   ]
  },
  {
   "cell_type": "code",
   "execution_count": 109,
   "metadata": {},
   "outputs": [],
   "source": [
    "player_features_2020 = player_features[player_features.년도 == 2020]\n",
    "\n",
    "f = player_features_2020.groupby([\"월\"])[\"일\"].agg([('일자문자',\"sum\")]).reset_index()\n",
    "\n",
    "f.일자문자 = f.일자문자.apply(lambda x: str_cut(x,2))\n",
    "\n",
    "sort_list = []\n",
    "for i in range(len(f.일자문자)):\n",
    "    sort_list.append(sorted(list(set(f.일자문자[i]))))\n",
    "\n",
    "sort_list_2 = []\n",
    "for i in range(len(f.일자문자)):\n",
    "    for j in range(len(sort_list[i])):\n",
    "        day = f.월[i] + \"-\" + sort_list[i][j]\n",
    "        sort_list_2.append(day)\n",
    "\n",
    "sort_dic = dict()\n",
    "for i in range(len(sort_list_2)):\n",
    "    sort_dic[sort_list_2[i]] = str(i)\n",
    "\n",
    "player_features_2020[\"교정일자\"] = player_features_2020.일자.apply(lambda x:sort_dic[x])"
   ]
  },
  {
   "cell_type": "code",
   "execution_count": 110,
   "metadata": {},
   "outputs": [],
   "source": [
    "player_features_2021 = player_features[player_features.년도 == 2021]\n",
    "\n",
    "f = player_features_2021.groupby([\"월\"])[\"일\"].agg([('일자문자',\"sum\")]).reset_index()\n",
    "\n",
    "f.일자문자 = f.일자문자.apply(lambda x: str_cut(x,2))\n",
    "\n",
    "sort_list = []\n",
    "for i in range(len(f.일자문자)):\n",
    "    sort_list.append(sorted(list(set(f.일자문자[i]))))\n",
    "\n",
    "sort_list_2 = []\n",
    "for i in range(len(f.일자문자)):\n",
    "    for j in range(len(sort_list[i])):\n",
    "        day = f.월[i] + \"-\" + sort_list[i][j]\n",
    "        sort_list_2.append(day)\n",
    "\n",
    "sort_dic = dict()\n",
    "for i in range(len(sort_list_2)):\n",
    "    sort_dic[sort_list_2[i]] = str(i)\n",
    "\n",
    "player_features_2021[\"교정일자\"] = player_features_2021.일자.apply(lambda x:sort_dic[x])"
   ]
  },
  {
   "cell_type": "code",
   "execution_count": 111,
   "metadata": {},
   "outputs": [],
   "source": [
    "player_features = pd.concat([player_features_2018, player_features_2019, player_features_2020, player_features_2021])"
   ]
  },
  {
   "cell_type": "code",
   "execution_count": 112,
   "metadata": {},
   "outputs": [],
   "source": [
    "player_features[\"교정일자\"] = player_features[\"교정일자\"].astype(\"int\")"
   ]
  },
  {
   "cell_type": "code",
   "execution_count": 113,
   "metadata": {},
   "outputs": [],
   "source": [
    "#10주기생성\n",
    "def day_split(x):\n",
    "    if x <10:\n",
    "        return 1\n",
    "    elif x<20:\n",
    "        return 2\n",
    "    elif x<30:\n",
    "        return 3\n",
    "    elif x<40:\n",
    "        return 4\n",
    "    elif x<50:\n",
    "        return 5\n",
    "    elif x<60:\n",
    "        return 6\n",
    "    elif x<70:\n",
    "        return 7\n",
    "    elif x<80:\n",
    "        return 8\n",
    "    elif x<90:\n",
    "        return 9\n",
    "    else:\n",
    "        return 10"
   ]
  },
  {
   "cell_type": "code",
   "execution_count": 114,
   "metadata": {},
   "outputs": [],
   "source": [
    "player_features[\"교정주기\"] = player_features[\"교정일자\"].apply(lambda x: day_split(x))"
   ]
  },
  {
   "cell_type": "code",
   "execution_count": 115,
   "metadata": {},
   "outputs": [],
   "source": [
    "p = pd.DataFrame({\"고유선수코드\" : player_features.고유선수코드.unique()})\n",
    "for i in list(set(player_features[\"교정주기\"].unique())):\n",
    "    statiz_ten = player_features[player_features.교정주기 == i].reset_index(drop = True)\n",
    "    f = pd.DataFrame({\"고유선수코드\" : player_features.고유선수코드.unique()})\n",
    "\n",
    "    t = player_features.groupby(\"고유선수코드\")[\"타석\"].agg([(\"타석\",\"sum\")]).reset_index()\n",
    "    f = pd.merge(left = f, right = t ,how = \"outer\", on = \"고유선수코드\")\n",
    "    \n",
    "    t = player_features.groupby(\"고유선수코드\")[\"안타\"].agg([(\"안타\",\"sum\")]).reset_index()\n",
    "    f = pd.merge(left = f, right = t ,how = \"outer\" , on = \"고유선수코드\")\n",
    "\n",
    "    t = player_features.groupby(\"고유선수코드\")[\"볼넷\"].agg([(\"볼넷\",\"sum\")]).reset_index()\n",
    "    f = pd.merge(left = f, right = t ,how = \"outer\", on = \"고유선수코드\")\n",
    "\n",
    "    t = player_features.groupby(\"고유선수코드\")[\"사구\"].agg([(\"사구\",\"sum\")]).reset_index()\n",
    "    f = pd.merge(left = f, right = t ,how = \"outer\", on = \"고유선수코드\")\n",
    "\n",
    "    t = player_features.groupby(\"고유선수코드\")[\"타수\"].agg([(\"타수\",\"sum\")]).reset_index()\n",
    "    f = pd.merge(left = f, right = t ,how = \"outer\", on = \"고유선수코드\")\n",
    "\n",
    "    t = player_features.groupby(\"고유선수코드\")[\"2타\"].agg([(\"2타\",\"sum\")]).reset_index()\n",
    "    f = pd.merge(left = f, right = t ,how = \"outer\", on = \"고유선수코드\")\n",
    "\n",
    "    t = player_features.groupby(\"고유선수코드\")[\"3타\"].agg([(\"3타\",\"sum\")]).reset_index()\n",
    "    f = pd.merge(left = f, right = t ,how = \"outer\", on = \"고유선수코드\")\n",
    "\n",
    "    t = player_features.groupby(\"고유선수코드\")[\"홈런\"].agg([(\"홈런\",\"sum\")]).reset_index()\n",
    "    f = pd.merge(left = f, right = t ,how = \"outer\", on = \"고유선수코드\")\n",
    "\n",
    "\n",
    "    f[\"{}주기_타율\".format(i)] = f[\"안타\"]/f[\"타수\"]\n",
    "    f[\"{}주기_출루율\".format(i)] = (f[\"안타\"] + f[\"볼넷\"] + f[\"사구\"])/f[\"타석\"]\n",
    "    f[\"{}주기_장타율\".format(i)] = (f[\"안타\"] + f[\"2타\"] + f[\"3타\"]*2 + f[\"홈런\"]*3)/f[\"타수\"]\n",
    "\n",
    "    p = pd.merge(left = p, right = f.loc[:,[\"고유선수코드\",\"{}주기_타율\".format(i), \"{}주기_출루율\".format(i), \"{}주기_장타율\".format(i)]] , on = \"고유선수코드\").fillna(0)"
   ]
  },
  {
   "cell_type": "code",
   "execution_count": 116,
   "metadata": {},
   "outputs": [],
   "source": [
    "X_train = pd.merge(left = X_train, right = p,on = \"고유선수코드\")\n",
    "X_test = pd.merge(left = X_test, right = p,on = \"고유선수코드\")"
   ]
  },
  {
   "cell_type": "markdown",
   "metadata": {},
   "source": [
    "## 신뢰도\n",
    "타석수/(리그경기수*5)*10 시즌통산 타석/500"
   ]
  },
  {
   "cell_type": "code",
   "execution_count": 117,
   "metadata": {},
   "outputs": [],
   "source": [
    "#마지막 ~~경기의 타석수\n",
    "X_train['신뢰도']=X_train['타석']/500\n",
    "X_test['신뢰도']=X_train['타석']/500"
   ]
  },
  {
   "cell_type": "markdown",
   "metadata": {},
   "source": [
    "# 세이버매트릭스"
   ]
  },
  {
   "cell_type": "code",
   "execution_count": 118,
   "metadata": {},
   "outputs": [],
   "source": [
    "X_train['HR%']=X_train['홈런']/X_train['타석']\n",
    "X_test['HR%']=X_test['홈런']/X_test['타석']\n",
    "\n"
   ]
  },
  {
   "cell_type": "code",
   "execution_count": 119,
   "metadata": {},
   "outputs": [],
   "source": [
    "X_train['BB%']=X_train['볼넷']/X_train['타석']\n",
    "X_test['BB%']=X_test['볼넷']/X_test['타석']\n",
    "\n"
   ]
  },
  {
   "cell_type": "code",
   "execution_count": 120,
   "metadata": {},
   "outputs": [],
   "source": [
    "X_train['K%']=X_train['삼진']/X_train['타석']\n",
    "X_test['K%']=X_test['삼진']/X_test['타석']\n",
    "\n"
   ]
  },
  {
   "cell_type": "code",
   "execution_count": 121,
   "metadata": {},
   "outputs": [],
   "source": [
    "X_train['PSN']=(2*X_train['홈런']*X_train['도루']/(X_train['홈런']+X_train['도루']))\n",
    "X_test['PSN']=(2*X_test['홈런']*X_test['도루']/(X_test['홈런']+X_test['도루']))"
   ]
  },
  {
   "cell_type": "markdown",
   "metadata": {},
   "source": [
    "## 전체 장타율, 출루율, 타율"
   ]
  },
  {
   "cell_type": "code",
   "execution_count": 122,
   "metadata": {},
   "outputs": [],
   "source": [
    "tr=player_features.groupby('고유선수코드')['장타'].last().reset_index()\n",
    "tt=player_features.groupby('고유선수코드')['장타'].last().reset_index()\n",
    "X_train = pd.merge(left = X_train ,right = tr , on = \"고유선수코드\")\n",
    "X_test = pd.merge(left = X_test ,right = tt , on = \"고유선수코드\")\n",
    "X_train.rename(columns = {'장타':'8월장타율'}, inplace = True)\n",
    "X_test.rename(columns = {'장타':'8월장타율'}, inplace = True)\n",
    "\n",
    "tr=player_features.groupby('고유선수코드')['출루'].last().reset_index()\n",
    "tt=player_features.groupby('고유선수코드')['출루'].last().reset_index()\n",
    "X_train = pd.merge(left = X_train ,right = tr , on = \"고유선수코드\")\n",
    "X_test = pd.merge(left = X_test ,right = tt , on = \"고유선수코드\")\n",
    "X_train.rename(columns = {'출루':'8월출루율'}, inplace = True)\n",
    "X_test.rename(columns = {'출루':'8월출루율'}, inplace = True)\n",
    "\n",
    "tr=player_features.groupby('고유선수코드')['OPS'].last().reset_index()\n",
    "tt=player_features.groupby('고유선수코드')['OPS'].last().reset_index()\n",
    "X_train = pd.merge(left = X_train ,right = tr , on = \"고유선수코드\")\n",
    "X_test = pd.merge(left = X_test ,right = tt , on = \"고유선수코드\")"
   ]
  },
  {
   "cell_type": "code",
   "execution_count": 123,
   "metadata": {},
   "outputs": [],
   "source": [
    "tr=player_features.groupby('고유선수코드')['타율'].last().reset_index()\n",
    "tt=player_features.groupby('고유선수코드')['타율'].last().reset_index()\n",
    "X_train = pd.merge(left = X_train ,right = tr , on = \"고유선수코드\")\n",
    "X_test = pd.merge(left = X_test ,right = tt , on = \"고유선수코드\")"
   ]
  },
  {
   "cell_type": "code",
   "execution_count": 124,
   "metadata": {},
   "outputs": [],
   "source": [
    "\n",
    "X_train['타율2']=X_train.안타/X_train.타수\n",
    "X_test['타율2']=X_test.안타/X_test.타수"
   ]
  },
  {
   "cell_type": "markdown",
   "metadata": {},
   "source": [
    "### RC\n",
    "A = 안타+볼넷-도루실패+사구-병살타\n",
    "\n",
    "B = 0.24×(볼넷-고의4구+사구)+0.62×도루+0.5×(희생번트+희생플라이)-0.03×삼진\n",
    "\n",
    "C = 타수+볼넷+사구+희생번트+희생플라이로 정의할 때,\n",
    "\n",
    "RC = {(2.4C+A)×(3C+B)/(9×C)}-0.9×C이다."
   ]
  },
  {
   "cell_type": "code",
   "execution_count": 125,
   "metadata": {},
   "outputs": [],
   "source": [
    "A=(X_train['안타']+X_train['볼넷']-X_train['도실']+X_train['사구']-X_train['병살']) #사구에 볼넷\n",
    "A2=(X_test['안타']+X_test['볼넷']-X_test['도실']+X_test['사구']-X_test['병살']) #사구에 볼넷"
   ]
  },
  {
   "cell_type": "code",
   "execution_count": null,
   "metadata": {},
   "outputs": [],
   "source": []
  },
  {
   "cell_type": "code",
   "execution_count": 126,
   "metadata": {},
   "outputs": [],
   "source": [
    "B=0.24*(X_train['볼넷']-X_train['고의사구']+X_train['사구'])+0.62*X_train['도루']+0.5*(X_train['희타']+X_train['희비'])-0.03*X_train['삼진']\n",
    "B2=0.24*(X_test['볼넷']-X_test['고의사구']+X_test['사구'])+0.62*X_test['도루']+0.5*(X_test['희타']+X_test['희비'])-0.03*X_test['삼진']"
   ]
  },
  {
   "cell_type": "code",
   "execution_count": 127,
   "metadata": {},
   "outputs": [],
   "source": [
    "C=X_train['타수']+X_train['볼넷']+X_train['사구']+X_train['희타']+X_train['희비']\n",
    "C2=X_test['타수']+X_test['볼넷']+X_test['사구']+X_test['희타']+X_test['희비']"
   ]
  },
  {
   "cell_type": "code",
   "execution_count": 128,
   "metadata": {},
   "outputs": [],
   "source": [
    "X_train['RC']=((2.4*C+A)*(3*C+B)/(9*C))-(0.9*C)\n",
    "X_test['RC']=((2.4*C2+A2)*(3*C2+B2)/(9*C2))-(0.9*C2)"
   ]
  },
  {
   "cell_type": "markdown",
   "metadata": {},
   "source": [
    "## BB/K(볼넷/삼진)\n",
    "말 그대로 볼넷 개수를 삼진 개수로 나누면 됨. 이것과 출루율이 높으면 선구안이 우수한 타자로 여긴다."
   ]
  },
  {
   "cell_type": "code",
   "execution_count": 129,
   "metadata": {},
   "outputs": [],
   "source": [
    "X_train['BBK']=X_train['사구']/X_train['삼진']\n",
    "X_test['BBK']=X_test['사구']/X_test['삼진']"
   ]
  },
  {
   "cell_type": "markdown",
   "metadata": {},
   "source": [
    "## XR(Extrapolated Runs, 추정 득점)\n",
    "Jim Furtado#가 고안한 통계. 계산법은 1루타×0.5 + 2루타×0.72 + 3루타×1.04 + 홈런×1.44 + (몸에 맞는 볼 + 볼넷 - 고의4구)×0.34 + 고의4구×0.25 + 도루×0.18 - 도루실패×0.32 - (타수 - 안타 - 삼진)×0.09 - 삼진×0.098 - 병살타×0.37 + 희생플라이×0.37 + 희생번트×0.04.\n",
    "RC와 마찬가지로 저 정도의 공헌도를 지닌다는 계산에서 나온 기록. RC와 계산 방법만 다를 뿐이지 거의 같은 의미의 스탯이라고 여기면 된다.[5] RC보다 복잡하지만 좀 더 정확한 스탯으로 알려져 있다.\n"
   ]
  },
  {
   "cell_type": "code",
   "execution_count": 130,
   "metadata": {},
   "outputs": [],
   "source": [
    "X_train['XR']=0.5*X_train['1루타']+0.72*X_train['2타']+1.04*X_train['3타']+1.44*X_train['홈런']+0.34*(X_train['사구']+X_train['볼넷']-X_train['고의사구'])+X_train['고의사구']*0.25+X_train['도루']*0.18-X_train['도실']*0.32-(X_train['타수']-X_train['안타']-X_train['삼진'])*0.09-X_train['삼진']*0.098-X_train['병살']*0.37+X_train['희비']*0.37+X_train['희타']*0.04\n",
    "X_test['XR']=0.5*X_test['1루타']+0.72*X_test['2타']+1.04*X_test['3타']+1.44*X_test['홈런']+0.34*(X_test['사구']+X_test['볼넷']-X_test['고의사구'])+X_test['고의사구']*0.25+X_test['도루']*0.18-X_test['도실']*0.32-(X_test['타수']-X_test['안타']-X_test['삼진'])*0.09-X_test['삼진']*0.098-X_test['병살']*0.37+X_test['희비']*0.37+X_test['희타']*0.04"
   ]
  },
  {
   "cell_type": "markdown",
   "metadata": {},
   "source": [
    "## wOBA\n",
    "\n",
    "(0.691* 4구+0.722* 사구+0.884* 1루타+1.257* 2루타+1.593* 3루타+2.058* 홈런)/(타자-고4)\n",
    "\n",
    "OPS의 단점들을 극복하고 좀 더 정확히 타자의 능력을 계량하기 위해 고안된 통계량으로 타석 당 득\n",
    "점 기대치를 의미하며, 볼넷, 사구, 단타, 2루타, 3루타, 홈런, 에러로 인한 출루 등에 가중치가 부여되고\n",
    "이들의 합을 타석의 수로 나눈 값이다."
   ]
  },
  {
   "cell_type": "code",
   "execution_count": 131,
   "metadata": {},
   "outputs": [],
   "source": [
    "X_train['wOBA']=(0.691*X_train['볼넷']+0.722*X_train['사구']+0.884*X_train['1루타']+1.257*X_train['2타']+1.593*X_train['3타']+2.058*X_train['홈런'])/(X_train['타석']-X_train['고의사구'])\n",
    "X_test['wOBA']=(0.691*X_test['볼넷']+0.722*X_test['사구']+0.884*X_test['1루타']+1.257*X_test['2타']+1.593*X_test['3타']+2.058*X_test['홈런'])/(X_test['타석']-X_test['고의사구'])"
   ]
  },
  {
   "cell_type": "markdown",
   "metadata": {},
   "source": [
    "## IsoP\n",
    "장타율 - 타율. 장타율 중에 단타가 포함되어 있으므로, 단타를 제외한 2루타 이상만을 계산하고자 하는 기록. 타자의 성향을 나타내는 스탯으로 높을 수록 강타자공갈포라고 판단할 수 있다. 다만 이 스탯 자체가 생산성과는 별 상관이 없는 스탯이므로 이게 높다고 좋은 타자라고는 말할 수 없다. 장타율이 같은 수준이라면 절대 장타율은 낮을수록 좋은 타자이다. 일발장타를 통해 만든 장타율보다 단타 여러개로 만든 장타율이 더 가치가 높기 때문이다."
   ]
  },
  {
   "cell_type": "code",
   "execution_count": 132,
   "metadata": {},
   "outputs": [],
   "source": [
    "X_train['IsoP']=X_train['8월장타율']-X_train['타율']\n",
    "X_test['IsoP']=X_test['8월장타율']-X_test['타율']"
   ]
  },
  {
   "cell_type": "markdown",
   "metadata": {},
   "source": [
    "## IsoD(Isolated Discipline, 절대 출루율)\n",
    "출루율 - 타율. 출루율에서 안타를 제외하고 4사구를 통한 출루율을 계산하고자 하는 기록. 절대 장타율과 마찬가지로 타자의 성향을 알아보는 용도로 사용되는 스탯. 역시 출루율이 같은 경우라면 낮을수록 생산성이 높게 나오므로 우열판단의 기준으로는 사용할 수 없다. 게다가 타율이 낮을 수록 BB%가 같다면 더 높게 나온다."
   ]
  },
  {
   "cell_type": "code",
   "execution_count": 133,
   "metadata": {},
   "outputs": [],
   "source": [
    "X_train['IsoD']=X_train['8월출루율']-X_train['타율']\n",
    "X_test['IsoD']=X_test['8월출루율']-X_test['타율']"
   ]
  },
  {
   "cell_type": "markdown",
   "metadata": {},
   "source": [
    "## RC27\n",
    "경기당 득점 기대치. 27아웃당(27타석이 아니다) RC. 27아웃은 한 경기를 가리킨다.[3] 즉, 한 타자를 8명 더 복제해서 1번부터 9번까지 전부 그 타자로만 채웠을 때, 그 팀이 몇 점을 얻을 수 있느냐-라고 이해하면 된다. 단, 실제로 한 선수로 타선을 채웠다고 해도 선수 개인의 성향 차이(스위치히터라든가 주자가 없을때만 잘치는 타자, 또는 점수차에 따라 성적이 다른 경우 등)는 반영할 수 없고 투수는 한 가지 패턴의 타자만 파악하면 된다는 점 때문에 절대적으로 같은 득점기대치가 나온다는 보장은 없다. RC/27은 어디까지가 다양한 유형의 타자들이 득점에 기여하는 정도를 알기 쉽게 비교하기 위한 수치다. 계산은 복잡하지만 일단 계산만 되어있으면 선수간의 공격력을 비교하기에 가장 편한 지표. 기본적으로 RC 같은 누적통계가 아니라 OPS, GPA 같은 비율통계의 부류이고, 실제에 적용할 경우 아웃카운트의 개수를 베이스로 산출하는 계산방식의 특성상 출루의 가치가 높게 평가되는 경향이 있다.[4] 다만 출루율이 높은 타자로만 9자리를 채운다고 동일한 수준의 출루율이 나올 수 있을진 생각해볼 문제다. 당연한 얘기지만 동일한 수준의 출루율을 기록할 수 있다면 동일한 수준의 득점기대치가 나올 것이다."
   ]
  },
  {
   "cell_type": "code",
   "execution_count": 134,
   "metadata": {},
   "outputs": [],
   "source": [
    "O=X_train['타수']-X_train['안타']+X_train['도실']+X_train['병살']+X_train['희타']+X_train['희비']\n",
    "O2=X_test['타수']-X_test['안타']+X_test['도실']+X_test['병살']+X_test['희타']+X_test['희비']"
   ]
  },
  {
   "cell_type": "code",
   "execution_count": 135,
   "metadata": {},
   "outputs": [],
   "source": [
    "X_train['RC/27']=X_train['RC']/O*27\n",
    "X_test['RC/27']=X_test['RC']/O2*27"
   ]
  },
  {
   "cell_type": "markdown",
   "metadata": {},
   "source": [
    "## GPA(Gleeman Production Average)[7]\n",
    "약자 그대로 글리만이 만든 통계다. 기존의 OPS는 출루율 + 장타율이라는 단순 계산으로 \"출루율 .350에 장타율 .450의 타자\"와 \"출루율 .280에 장타율 .520\"의 타자가 OPS상으론 .800으로 동급으로 취급을 받는 문제가 발생한다. 이런 OPS의 문제점을 보완하고자 출루율의 비중을 높이는 통계를 만들었는데 이것이 Tangotiger(Tom Tango)가 만들어낸 ((출루율×1.8) + 장타율)이다. 하지만 일반인들이 느끼기 힘들다는 것으로 판단하고 글리만이 여기서 나누기 4를 하는 방법을 생각해냈다. 그리고 일반 타율에 가까운 수치가 나오도록 1.7대신 1.8을 곱해서 만들어 진것이 바로 GPA이다."
   ]
  },
  {
   "cell_type": "code",
   "execution_count": 136,
   "metadata": {},
   "outputs": [],
   "source": [
    "#출루율관련\n",
    "X_train['GPA']=(X_train['8월출루율']*1.8+X_train['8월장타율'])/4\n",
    "#출루율관련\n",
    "X_test['GPA']=(X_test['8월출루율']*1.8+X_test['8월장타율'])/4"
   ]
  },
  {
   "cell_type": "markdown",
   "metadata": {},
   "source": [
    "## BABIP\n",
    "인플레이로 이어진 타구에 대한 타율을 계산하는 용어이다. "
   ]
  },
  {
   "cell_type": "code",
   "execution_count": 137,
   "metadata": {},
   "outputs": [],
   "source": [
    "X_train['BABIP']=(X_train['안타']-X_train['홈런'])/(X_train['타수']-X_train['삼진']-X_train['홈런']+X_train['희비'])\n",
    "X_test['BABIP']=(X_test['안타']-X_test['홈런'])/(X_test['타수']-X_test['삼진']-X_test['홈런']+X_test['희비'])"
   ]
  },
  {
   "cell_type": "markdown",
   "metadata": {},
   "source": [
    "## RawEqA"
   ]
  },
  {
   "cell_type": "code",
   "execution_count": 138,
   "metadata": {},
   "outputs": [],
   "source": [
    "X_train['RawEqA']=(X_train['루타']+X_train['안타']+1.5*(X_train['볼넷']+X_train['사구']+X_train['도루'])+X_train['희비']+X_train['희타']-X_train['고의사구']/2)/(X_train['타석']+X_train['도루']+X_train['도실'])\n",
    "X_test['RawEqA']=(X_test['루타']+X_test['안타']+1.5*(X_test['볼넷']+X_test['사구']+X_test['도루'])+X_test['희비']+X_test['희타']-X_test['고의사구']/2)/(X_test['타석']+X_test['도루']+X_test['도실'])"
   ]
  },
  {
   "cell_type": "code",
   "execution_count": null,
   "metadata": {},
   "outputs": [],
   "source": []
  },
  {
   "cell_type": "markdown",
   "metadata": {},
   "source": [
    "## WRAA"
   ]
  },
  {
   "cell_type": "code",
   "execution_count": 139,
   "metadata": {},
   "outputs": [],
   "source": [
    "X_train['WRAA']=((X_train['wOBA']-0.346)/1.213)*X_train['타석']\n",
    "X_test['WRAA']=((X_test['wOBA']-0.346)/1.213)*X_test['타석']"
   ]
  },
  {
   "cell_type": "markdown",
   "metadata": {},
   "source": [
    "## WRC"
   ]
  },
  {
   "cell_type": "code",
   "execution_count": 140,
   "metadata": {},
   "outputs": [],
   "source": [
    "tr=player_features.groupby('고유선수코드')['avLI'].last().reset_index()\n",
    "tt=player_features.groupby('고유선수코드')['avLI'].last().reset_index()\n",
    "X_train = pd.merge(left = X_train ,right = tr , on = \"고유선수코드\")\n",
    "X_test = pd.merge(left = X_test ,right = tt , on = \"고유선수코드\")"
   ]
  },
  {
   "cell_type": "code",
   "execution_count": 141,
   "metadata": {},
   "outputs": [],
   "source": [
    "tr=player_features.groupby('고유선수코드')['RE24'].last().reset_index()\n",
    "tt=player_features.groupby('고유선수코드')['RE24'].last().reset_index()\n",
    "X_train = pd.merge(left = X_train ,right = tr , on = \"고유선수코드\")\n",
    "X_test = pd.merge(left = X_test ,right = tt , on = \"고유선수코드\")"
   ]
  },
  {
   "cell_type": "code",
   "execution_count": 142,
   "metadata": {},
   "outputs": [],
   "source": [
    "tr=player_features.groupby('고유선수코드')['WPA'].last().reset_index()\n",
    "tt=player_features.groupby('고유선수코드')['WPA'].last().reset_index()\n",
    "X_train = pd.merge(left = X_train ,right = tr , on = \"고유선수코드\")\n",
    "X_test = pd.merge(left = X_test ,right = tt , on = \"고유선수코드\")"
   ]
  },
  {
   "cell_type": "code",
   "execution_count": 143,
   "metadata": {},
   "outputs": [],
   "source": [
    "tr=player_features.groupby('고유선수코드')['투구'].sum().reset_index()\n",
    "tt=player_features.groupby('고유선수코드')['투구'].sum().reset_index()\n",
    "X_train = pd.merge(left = X_train ,right = tr , on = \"고유선수코드\")\n",
    "X_test = pd.merge(left = X_test ,right = tt , on = \"고유선수코드\")"
   ]
  },
  {
   "cell_type": "code",
   "execution_count": 144,
   "metadata": {},
   "outputs": [],
   "source": [
    "X_train['투구대비안타']=X_train['안타']/X_train['투구']\n",
    "X_test['투구대비안타']=X_test['안타']/X_test['투구']"
   ]
  },
  {
   "cell_type": "markdown",
   "metadata": {},
   "source": [
    "# (2018~2020 / 2021) 피쳐\n",
    "\n",
    "Shap importance를 통해 1위, 2위, 3위,4위 피쳐를 활용한 새로운 피쳐 생성\n",
    "\n",
    "1.배럴타구여부, \n",
    "\n",
    "2.선발투수\n",
    "\n",
    "3.가중배럴\n",
    "\n",
    "4.도루성공률\n",
    "\n",
    "가중치(1. 0.4, 2. 0.2) 피쳐\n",
    "\n",
    "numpy의 내장함수 이용한 피쳐\n",
    "\n",
    "변동계수(cv, 평균/표준편차) 피쳐"
   ]
  },
  {
   "cell_type": "code",
   "execution_count": 145,
   "metadata": {},
   "outputs": [],
   "source": [
    "# SHAP 피쳐임포턴스 확인후 임포턴스가 높게나온 \n",
    "# train_x\n",
    "X_train['ss_weighted'] = (X_train.배럴타구여부) * 4 + (X_train.타수대비도루성공비율) * 2\n",
    "for function_name in ['min', 'max', 'sum', 'mean', 'std']:\n",
    "    X_train['ss_{}'.format(function_name)] = eval('np.{}'.format(function_name))(\n",
    "    X_train[['배럴타구여부', '타수대비도루성공비율']], axis=1)\n",
    "X_train['ss_cv'] = X_train['ss_std']/X_train['ss_mean']\n",
    "    \n",
    "    \n",
    "# test_x\n",
    "X_test['ss_weighted'] = (X_test.배럴타구여부) * 4 + (X_test.타수대비도루성공비율) * 2\n",
    "for function_name in ['min', 'max', 'sum', 'mean', 'std']:\n",
    "    X_test['ss_{}'.format(function_name)] = eval('np.{}'.format(function_name))(\n",
    "    X_test[['배럴타구여부', '타수대비도루성공비율']], axis=1)\n",
    "X_test['ss_cv'] = X_test['ss_std']/X_test['ss_mean']\n",
    "           "
   ]
  },
  {
   "cell_type": "code",
   "execution_count": 146,
   "metadata": {},
   "outputs": [],
   "source": [
    "#딥러닝 모델용 피쳐생성\n",
    "X_1=X_train\n",
    "XT_1=X_test"
   ]
  },
  {
   "cell_type": "code",
   "execution_count": 147,
   "metadata": {},
   "outputs": [],
   "source": [
    "# train_x\n",
    "X_train['sss_weighted'] = (X_train.가중배럴) * 4 + (X_train.도루성공률) * 2\n",
    "for function_name in ['min', 'max', 'sum', 'mean', 'std']:\n",
    "    X_train['sss_{}'.format(function_name)] = eval('np.{}'.format(function_name))(\n",
    "    X_train[['가중배럴', '도루성공률']], axis=1)\n",
    "X_train['sss_cv'] = X_train['sss_std']/X_train['sss_mean']\n",
    "    \n",
    "    \n",
    "# test_x\n",
    "X_test['sss_weighted'] = (X_test.가중배럴) * 4 + (X_test.도루성공률) * 2\n",
    "for function_name in ['min', 'max', 'sum', 'mean', 'std']:\n",
    "    X_test['sss_{}'.format(function_name)] = eval('np.{}'.format(function_name))(\n",
    "    X_test[['가중배럴', '도루성공률']], axis=1)\n",
    "X_test['sss_cv'] = X_test['sss_std']/X_test['sss_mean']\n",
    "           "
   ]
  },
  {
   "cell_type": "markdown",
   "metadata": {},
   "source": [
    "# 4. 타겟값 추가 및 Feature selection"
   ]
  },
  {
   "cell_type": "code",
   "execution_count": 148,
   "metadata": {},
   "outputs": [],
   "source": [
    "#학습시킬 각 년도 선수별 9월15일 ~ 10월8일 타겟값 \n",
    "y_features=pd.read_csv(data_path_3+'/statiz_all_target.csv')"
   ]
  },
  {
   "cell_type": "code",
   "execution_count": 149,
   "metadata": {},
   "outputs": [],
   "source": [
    "#장타율만 예측하는 파일이므로 장타율만 선택.\n",
    "y_train=y_features.loc[:,['고유선수코드','장타율']]"
   ]
  },
  {
   "cell_type": "code",
   "execution_count": 150,
   "metadata": {},
   "outputs": [],
   "source": [
    "X_train=pd.merge(left=X_train, right=y_train, on='고유선수코드')"
   ]
  },
  {
   "cell_type": "code",
   "execution_count": 151,
   "metadata": {},
   "outputs": [],
   "source": [
    "X_1=pd.merge(left=X_1, right=y_train, on='고유선수코드')"
   ]
  },
  {
   "cell_type": "code",
   "execution_count": 152,
   "metadata": {},
   "outputs": [],
   "source": [
    "#2018~2020년 시즌별 규정타석 충족 선수들만 활용해보기 위함.\n",
    "id_lst = list(batter_[batter_.타석 >= (144*3.1)].고유선수코드.unique())\n",
    "X_train=X_train.query(\"고유선수코드 in @id_lst\").reset_index(drop = True)"
   ]
  },
  {
   "cell_type": "code",
   "execution_count": 153,
   "metadata": {},
   "outputs": [],
   "source": [
    "X_train.fillna(0,inplace=True)\n",
    "X_test.fillna(0,inplace=True)\n",
    "\n",
    "X_1.fillna(0,inplace=True)\n",
    "XT_1.fillna(0,inplace=True)"
   ]
  },
  {
   "cell_type": "code",
   "execution_count": 154,
   "metadata": {},
   "outputs": [],
   "source": [
    "X_train.columns=X_train.columns.astype(str)\n",
    "X_test.columns=X_test.columns.astype(str)\n",
    "\n",
    "X_1.columns=X_1.columns.astype(str)\n",
    "XT_1.columns=XT_1.columns.astype(str)"
   ]
  },
  {
   "cell_type": "markdown",
   "metadata": {},
   "source": [
    "# percentile select feature"
   ]
  },
  {
   "cell_type": "code",
   "execution_count": 155,
   "metadata": {},
   "outputs": [],
   "source": [
    "XX_test=X_test.copy()\n",
    "XT_test=XT_1.copy()"
   ]
  },
  {
   "cell_type": "code",
   "execution_count": null,
   "metadata": {},
   "outputs": [],
   "source": []
  },
  {
   "cell_type": "code",
   "execution_count": 156,
   "metadata": {},
   "outputs": [],
   "source": [
    "XX_test.drop('고유선수코드',axis=1,inplace=True)\n",
    "XT_test.drop('고유선수코드',axis=1,inplace=True)"
   ]
  },
  {
   "cell_type": "code",
   "execution_count": 157,
   "metadata": {},
   "outputs": [],
   "source": [
    "from sklearn.preprocessing import PowerTransformer\n",
    "from sklearn.preprocessing import MinMaxScaler\n",
    "X = X_train.copy()\n",
    "X.drop(['장타율', \"고유선수코드\"  ],axis=1, inplace=True)\n",
    "feature_names = X.columns.to_list()\n",
    "y = X_train['장타율']\n",
    "\n",
    "XX=X_1.copy()\n",
    "XX.drop(['장타율', \"고유선수코드\"  ],axis=1, inplace=True)\n",
    "y2 = X_1['장타율']\n",
    "\n",
    "\n",
    "# 피쳐 선택은 나중에 우선 상관도 높은 20개 사용 "
   ]
  },
  {
   "cell_type": "markdown",
   "metadata": {},
   "source": [
    "### 4-1 스케일링"
   ]
  },
  {
   "cell_type": "code",
   "execution_count": 158,
   "metadata": {},
   "outputs": [],
   "source": [
    "from sklearn.preprocessing import StandardScaler\n",
    "scaler = StandardScaler()\n",
    "\n",
    "X_train_scaled = scaler.fit_transform(X)\n",
    "X_test_scaled = scaler.transform(XX_test)\n",
    "\n",
    "X_train_scaled2 = scaler.fit_transform(XX)\n",
    "X_test_scaled2 = scaler.transform(XT_test)"
   ]
  },
  {
   "cell_type": "code",
   "execution_count": 159,
   "metadata": {},
   "outputs": [],
   "source": [
    "X_columns=X.columns\n",
    "XX_columns=XX.columns"
   ]
  },
  {
   "cell_type": "code",
   "execution_count": 160,
   "metadata": {},
   "outputs": [],
   "source": [
    "X_train_scaled=pd.DataFrame(X_train_scaled,columns=X_columns)\n",
    "X_test_scaled=pd.DataFrame(X_test_scaled,columns=X_columns)\n",
    "\n",
    "X_train_scaled2=pd.DataFrame(X_train_scaled2,columns=XX_columns)\n",
    "X_test_scaled2=pd.DataFrame(X_test_scaled2,columns=XX_columns)"
   ]
  },
  {
   "cell_type": "markdown",
   "metadata": {},
   "source": [
    "## 4-2 변수선택"
   ]
  },
  {
   "cell_type": "code",
   "execution_count": 161,
   "metadata": {},
   "outputs": [
    {
     "data": {
      "image/png": "[encoded data removed]",
      "text/plain": [
       "<Figure size 576x684 with 2 Axes>"
      ]
     },
     "metadata": {},
     "output_type": "display_data"
    },
    {
     "data": {
      "image/png": "[encoded data removed]",
      "text/plain": [
       "<Figure size 576x684 with 1 Axes>"
      ]
     },
     "metadata": {},
     "output_type": "display_data"
    },
    {
     "data": {
      "text/html": [
       "<div>\n",
       "<style scoped>\n",
       "    .dataframe tbody tr th:only-of-type {\n",
       "        vertical-align: middle;\n",
       "    }\n",
       "\n",
       "    .dataframe tbody tr th {\n",
       "        vertical-align: top;\n",
       "    }\n",
       "\n",
       "    .dataframe thead th {\n",
       "        text-align: right;\n",
       "    }\n",
       "</style>\n",
       "<table border=\"1\" class=\"dataframe\">\n",
       "  <thead>\n",
       "    <tr style=\"text-align: right;\">\n",
       "      <th></th>\n",
       "      <th>column_name</th>\n",
       "      <th>shap_importance</th>\n",
       "    </tr>\n",
       "  </thead>\n",
       "  <tbody>\n",
       "    <tr>\n",
       "      <th>141</th>\n",
       "      <td>sss_cv</td>\n",
       "      <td>0.045716</td>\n",
       "    </tr>\n",
       "    <tr>\n",
       "      <th>13</th>\n",
       "      <td>잠실</td>\n",
       "      <td>0.017364</td>\n",
       "    </tr>\n",
       "    <tr>\n",
       "      <th>56</th>\n",
       "      <td>2루타비율</td>\n",
       "      <td>0.017021</td>\n",
       "    </tr>\n",
       "    <tr>\n",
       "      <th>10</th>\n",
       "      <td>문학</td>\n",
       "      <td>0.016056</td>\n",
       "    </tr>\n",
       "    <tr>\n",
       "      <th>43</th>\n",
       "      <td>선발</td>\n",
       "      <td>0.012228</td>\n",
       "    </tr>\n",
       "    <tr>\n",
       "      <th>...</th>\n",
       "      <td>...</td>\n",
       "      <td>...</td>\n",
       "    </tr>\n",
       "    <tr>\n",
       "      <th>77</th>\n",
       "      <td>2주기_장타율</td>\n",
       "      <td>0.0</td>\n",
       "    </tr>\n",
       "    <tr>\n",
       "      <th>35</th>\n",
       "      <td>도루</td>\n",
       "      <td>0.0</td>\n",
       "    </tr>\n",
       "    <tr>\n",
       "      <th>76</th>\n",
       "      <td>2주기_출루율</td>\n",
       "      <td>0.0</td>\n",
       "    </tr>\n",
       "    <tr>\n",
       "      <th>80</th>\n",
       "      <td>3주기_장타율</td>\n",
       "      <td>0.0</td>\n",
       "    </tr>\n",
       "    <tr>\n",
       "      <th>100</th>\n",
       "      <td>10주기_출루율</td>\n",
       "      <td>0.0</td>\n",
       "    </tr>\n",
       "  </tbody>\n",
       "</table>\n",
       "<p>142 rows × 2 columns</p>\n",
       "</div>"
      ],
      "text/plain": [
       "    column_name shap_importance\n",
       "141      sss_cv        0.045716\n",
       "13           잠실        0.017364\n",
       "56        2루타비율        0.017021\n",
       "10           문학        0.016056\n",
       "43           선발        0.012228\n",
       "..          ...             ...\n",
       "77      2주기_장타율             0.0\n",
       "35           도루             0.0\n",
       "76      2주기_출루율             0.0\n",
       "80      3주기_장타율             0.0\n",
       "100    10주기_출루율             0.0\n",
       "\n",
       "[142 rows x 2 columns]"
      ]
     },
     "execution_count": 161,
     "metadata": {},
     "output_type": "execute_result"
    }
   ],
   "source": [
    "#새플리가치로 피쳐임포턴스 확인\n",
    "import shap\n",
    "\n",
    "\n",
    "X_importance = X_test_scaled\n",
    "\n",
    "# model = XGBClassifier(random_state=0).fit(train_x, y_train)\n",
    "# explainer = shap.TreeExplainer(model)\n",
    "# shap_values = explainer.shap_values(X_importance)\n",
    "\n",
    "\n",
    "model = LGBMRegressor(random_state=0).fit(X_train_scaled, y)\n",
    "explainer = shap.TreeExplainer(model)\n",
    "shap_values = explainer.shap_values(X_importance)\n",
    "\n",
    "# Plot summary_plot\n",
    "shap.summary_plot(shap_values, X_importance)\n",
    "# Plot summary_plot as barplot\n",
    "shap.summary_plot(shap_values, X_importance, plot_type='bar')\n",
    "\n",
    "shap_sum = np.abs(shap_values).mean(axis=0)\n",
    "importance_df = pd.DataFrame([X_importance.columns.tolist(), shap_sum.tolist()]).T\n",
    "importance_df.columns = ['column_name', 'shap_importance']\n",
    "importance_df = importance_df.sort_values('shap_importance', ascending=False)\n",
    "importance_df"
   ]
  },
  {
   "cell_type": "code",
   "execution_count": 162,
   "metadata": {},
   "outputs": [
    {
     "data": {
      "image/png": "[encoded data removed]",
      "text/plain": [
       "<Figure size 576x684 with 2 Axes>"
      ]
     },
     "metadata": {},
     "output_type": "display_data"
    },
    {
     "data": {
      "image/png": "[encoded data removed]",
      "text/plain": [
       "<Figure size 576x684 with 1 Axes>"
      ]
     },
     "metadata": {},
     "output_type": "display_data"
    },
    {
     "data": {
      "text/html": [
       "<div>\n",
       "<style scoped>\n",
       "    .dataframe tbody tr th:only-of-type {\n",
       "        vertical-align: middle;\n",
       "    }\n",
       "\n",
       "    .dataframe tbody tr th {\n",
       "        vertical-align: top;\n",
       "    }\n",
       "\n",
       "    .dataframe thead th {\n",
       "        text-align: right;\n",
       "    }\n",
       "</style>\n",
       "<table border=\"1\" class=\"dataframe\">\n",
       "  <thead>\n",
       "    <tr style=\"text-align: right;\">\n",
       "      <th></th>\n",
       "      <th>column_name</th>\n",
       "      <th>shap_importance</th>\n",
       "    </tr>\n",
       "  </thead>\n",
       "  <tbody>\n",
       "    <tr>\n",
       "      <th>133</th>\n",
       "      <td>ss_std</td>\n",
       "      <td>0.016374</td>\n",
       "    </tr>\n",
       "    <tr>\n",
       "      <th>141</th>\n",
       "      <td>sss_cv</td>\n",
       "      <td>0.014369</td>\n",
       "    </tr>\n",
       "    <tr>\n",
       "      <th>37</th>\n",
       "      <td>고의사구</td>\n",
       "      <td>0.013672</td>\n",
       "    </tr>\n",
       "    <tr>\n",
       "      <th>56</th>\n",
       "      <td>2루타비율</td>\n",
       "      <td>0.012497</td>\n",
       "    </tr>\n",
       "    <tr>\n",
       "      <th>64</th>\n",
       "      <td>봄안타비율</td>\n",
       "      <td>0.011581</td>\n",
       "    </tr>\n",
       "    <tr>\n",
       "      <th>...</th>\n",
       "      <td>...</td>\n",
       "      <td>...</td>\n",
       "    </tr>\n",
       "    <tr>\n",
       "      <th>87</th>\n",
       "      <td>6주기_타율</td>\n",
       "      <td>0.0</td>\n",
       "    </tr>\n",
       "    <tr>\n",
       "      <th>86</th>\n",
       "      <td>5주기_장타율</td>\n",
       "      <td>0.0</td>\n",
       "    </tr>\n",
       "    <tr>\n",
       "      <th>85</th>\n",
       "      <td>5주기_출루율</td>\n",
       "      <td>0.0</td>\n",
       "    </tr>\n",
       "    <tr>\n",
       "      <th>84</th>\n",
       "      <td>5주기_타율</td>\n",
       "      <td>0.0</td>\n",
       "    </tr>\n",
       "    <tr>\n",
       "      <th>102</th>\n",
       "      <td>신뢰도</td>\n",
       "      <td>0.0</td>\n",
       "    </tr>\n",
       "  </tbody>\n",
       "</table>\n",
       "<p>142 rows × 2 columns</p>\n",
       "</div>"
      ],
      "text/plain": [
       "    column_name shap_importance\n",
       "133      ss_std        0.016374\n",
       "141      sss_cv        0.014369\n",
       "37         고의사구        0.013672\n",
       "56        2루타비율        0.012497\n",
       "64        봄안타비율        0.011581\n",
       "..          ...             ...\n",
       "87       6주기_타율             0.0\n",
       "86      5주기_장타율             0.0\n",
       "85      5주기_출루율             0.0\n",
       "84       5주기_타율             0.0\n",
       "102         신뢰도             0.0\n",
       "\n",
       "[142 rows x 2 columns]"
      ]
     },
     "execution_count": 162,
     "metadata": {},
     "output_type": "execute_result"
    }
   ],
   "source": [
    "#새플리가치로 피쳐임포턴스 확인\n",
    "import shap\n",
    "\n",
    "\n",
    "X_importance = X_test_scaled2\n",
    "\n",
    "# model = XGBClassifier(random_state=0).fit(train_x, y_train)\n",
    "# explainer = shap.TreeExplainer(model)\n",
    "# shap_values = explainer.shap_values(X_importance)\n",
    "\n",
    "\n",
    "model = LGBMRegressor(random_state=0).fit(X_train_scaled2, y2)\n",
    "explainer = shap.TreeExplainer(model)\n",
    "shap_values = explainer.shap_values(X_importance)\n",
    "\n",
    "# Plot summary_plot\n",
    "shap.summary_plot(shap_values, X_importance)\n",
    "# Plot summary_plot as barplot\n",
    "shap.summary_plot(shap_values, X_importance, plot_type='bar')\n",
    "\n",
    "shap_sum = np.abs(shap_values).mean(axis=0)\n",
    "importance_df = pd.DataFrame([X_importance.columns.tolist(), shap_sum.tolist()]).T\n",
    "importance_df.columns = ['column_name', 'shap_importance']\n",
    "importance_df = importance_df.sort_values('shap_importance', ascending=False)\n",
    "importance_df"
   ]
  },
  {
   "cell_type": "code",
   "execution_count": 163,
   "metadata": {},
   "outputs": [
    {
     "name": "stderr",
     "output_type": "stream",
     "text": [
      "100%|██████████| 95/95 [00:04<00:00, 22.81it/s]\n"
     ]
    },
    {
     "name": "stdout",
     "output_type": "stream",
     "text": [
      "(17, -0.12841414211329763)\n"
     ]
    },
    {
     "data": {
      "image/png": "[encoded data removed]",
      "text/plain": [
       "<Figure size 432x288 with 1 Axes>"
      ]
     },
     "metadata": {},
     "output_type": "display_data"
    }
   ],
   "source": [
    "#스태킹용 피쳐\n",
    "from sklearn.model_selection import ShuffleSplit\n",
    "\n",
    "model = LinearRegression()\n",
    "\n",
    "cv_scores = []\n",
    "\n",
    "sscv = ShuffleSplit(n_splits = 5, random_state = 0)\n",
    "\n",
    "for p in tqdm(range(5,100,1)):\n",
    "    X_new = SelectPercentile(percentile=p).fit_transform(X_train_scaled, y)    \n",
    "    cv_score = cross_val_score(model, X_new, y, scoring='neg_root_mean_squared_error', cv=sscv).mean()\n",
    "    cv_scores.append((p,cv_score))\n",
    "\n",
    "# Print the best percentile\n",
    "best_score = cv_scores[np.argmax([score for _, score in cv_scores])]\n",
    "print(best_score)\n",
    "\n",
    "# Plot the performance change with p\n",
    "plt.plot([k for k, _ in cv_scores], [score for _, score in cv_scores])\n",
    "plt.xlabel('Percent of features')\n",
    "plt.grid()"
   ]
  },
  {
   "cell_type": "code",
   "execution_count": 164,
   "metadata": {},
   "outputs": [],
   "source": [
    "# 과적합을 피하기 위해 최적의 p값 주변의 값을 선택하는게 더 나은 결과를 얻을 수 있다. \n",
    "fs = SelectPercentile(percentile=best_score[0]).fit(X_train_scaled, y)\n",
    "X_train_select = fs.transform(X_train_scaled)\n",
    "X_test_select = fs.transform(X_test_scaled)"
   ]
  },
  {
   "cell_type": "code",
   "execution_count": 165,
   "metadata": {},
   "outputs": [],
   "source": [
    "X_train_nothuman=X.copy()\n",
    "X_test_nothuman=XX_test.copy()"
   ]
  },
  {
   "cell_type": "code",
   "execution_count": 166,
   "metadata": {},
   "outputs": [
    {
     "name": "stdout",
     "output_type": "stream",
     "text": [
      "(166, 24)\n",
      "['수원', '타점', '도실', '사구', '선발', '일자', '삼진', '희타', '1주기_타율', '2주기_타율', '3주기_타율', '4주기_타율', '5주기_타율', '6주기_타율', '7주기_타율', '8주기_타율', '9주기_타율', '10주기_타율', '타율', '타율2', 'BABIP', '투구대비안타', 'ss_cv', 'sss_cv']\n"
     ]
    }
   ],
   "source": [
    "print(X_train_select.shape)\n",
    "print(X_train_nothuman.columns[fs.get_support()].tolist()) #get_support: 선택한 특성을 불린값으로 보여줘서 어떤 특성을 선택했는지 알 수 있다."
   ]
  },
  {
   "cell_type": "code",
   "execution_count": 167,
   "metadata": {},
   "outputs": [
    {
     "name": "stderr",
     "output_type": "stream",
     "text": [
      "100%|██████████| 95/95 [00:05<00:00, 16.77it/s]\n"
     ]
    },
    {
     "name": "stdout",
     "output_type": "stream",
     "text": [
      "(23, -0.14111991477075914)\n"
     ]
    },
    {
     "data": {
      "image/png": "[encoded data removed]",
      "text/plain": [
       "<Figure size 432x288 with 1 Axes>"
      ]
     },
     "metadata": {},
     "output_type": "display_data"
    }
   ],
   "source": [
    "from sklearn.model_selection import ShuffleSplit\n",
    "\n",
    "model = LinearRegression()\n",
    "\n",
    "cv_scores = []\n",
    "\n",
    "sscv = ShuffleSplit(n_splits = 5, random_state = 0)\n",
    "\n",
    "for p in tqdm(range(5,100,1)):\n",
    "    X_new = SelectPercentile(percentile=p).fit_transform(X_train_scaled2, y2)    \n",
    "    cv_score = cross_val_score(model, X_new, y2, scoring='neg_root_mean_squared_error', cv=sscv).mean()\n",
    "    cv_scores.append((p,cv_score))\n",
    "\n",
    "# Print the best percentile\n",
    "best_score = cv_scores[np.argmax([score for _, score in cv_scores])]\n",
    "print(best_score)\n",
    "\n",
    "# Plot the performance change with p\n",
    "plt.plot([k for k, _ in cv_scores], [score for _, score in cv_scores])\n",
    "plt.xlabel('Percent of features')\n",
    "plt.grid()"
   ]
  },
  {
   "cell_type": "code",
   "execution_count": 168,
   "metadata": {},
   "outputs": [],
   "source": [
    "# 과적합을 피하기 위해 최적의 p값 주변의 값을 선택하는게 더 나은 결과를 얻을 수 있다. \n",
    "fs = SelectPercentile(percentile=best_score[0]).fit(X_train_scaled2, y2)\n",
    "X_train_select2 = fs.transform(X_train_scaled2)\n",
    "X_test_select2 = fs.transform(X_test_scaled2)"
   ]
  },
  {
   "cell_type": "code",
   "execution_count": 169,
   "metadata": {},
   "outputs": [],
   "source": [
    "XX_train_nothuman=XX.copy()\n",
    "XX_test_nothuman=XT_test.copy()"
   ]
  },
  {
   "cell_type": "code",
   "execution_count": 170,
   "metadata": {},
   "outputs": [
    {
     "name": "stdout",
     "output_type": "stream",
     "text": [
      "(257, 33)\n",
      "['수원', '잠실', '타점', '도실', '고의사구', '사구', '홈런', '일자', '삼진', '루타', '여름_평균타율', '봄가중배럴타구비율', '1주기_타율', '2주기_타율', '3주기_타율', '4주기_타율', '5주기_타율', '6주기_타율', '7주기_타율', '8주기_타율', '9주기_타율', '10주기_타율', 'OPS', '타율', '타율2', 'BBK', 'wOBA', 'GPA', 'BABIP', 'RawEqA', 'WRAA', '투구대비안타', 'ss_cv']\n"
     ]
    }
   ],
   "source": [
    "print(X_train_select2.shape)\n",
    "print(XX_train_nothuman.columns[fs.get_support()].tolist()) #get_support: 선택한 특성을 불린값으로 보여줘서 어떤 특성을 선택했는지 알 수 있다."
   ]
  },
  {
   "cell_type": "markdown",
   "metadata": {},
   "source": [
    "# 5.모델링"
   ]
  },
  {
   "cell_type": "code",
   "execution_count": 171,
   "metadata": {},
   "outputs": [],
   "source": [
    "X_train2, X_valid, y_train, y_valid = train_test_split(X_train_select, y, test_size=0.2, random_state=0)"
   ]
  },
  {
   "cell_type": "code",
   "execution_count": 172,
   "metadata": {},
   "outputs": [
    {
     "name": "stderr",
     "output_type": "stream",
     "text": [
      "  8%|▊         | 1/12 [00:04<00:53,  4.90s/it]"
     ]
    },
    {
     "name": "stdout",
     "output_type": "stream",
     "text": [
      "KNeighborsRegressor                                 -0.022417 4.9\n",
      "LinearRegression                                    -0.022095 0.0\n"
     ]
    },
    {
     "name": "stderr",
     "output_type": "stream",
     "text": [
      "\r",
      " 25%|██▌       | 3/12 [00:06<00:15,  1.76s/it]"
     ]
    },
    {
     "name": "stdout",
     "output_type": "stream",
     "text": [
      "RandomForestRegressor                               -0.018240 1.3\n"
     ]
    },
    {
     "name": "stderr",
     "output_type": "stream",
     "text": [
      "\r",
      " 33%|███▎      | 4/12 [00:06<00:10,  1.33s/it]"
     ]
    },
    {
     "name": "stdout",
     "output_type": "stream",
     "text": [
      "GradientBoostingRegressor                           -0.019346 0.5\n"
     ]
    },
    {
     "name": "stderr",
     "output_type": "stream",
     "text": [
      "\r",
      " 42%|████▏     | 5/12 [00:07<00:08,  1.20s/it]"
     ]
    },
    {
     "name": "stdout",
     "output_type": "stream",
     "text": [
      "XGBRegressor                                        -0.020782 0.9\n"
     ]
    },
    {
     "name": "stderr",
     "output_type": "stream",
     "text": [
      "\r",
      " 50%|█████     | 6/12 [00:09<00:07,  1.32s/it]"
     ]
    },
    {
     "name": "stdout",
     "output_type": "stream",
     "text": [
      "LGBMRegressor                                       -0.018004 1.6\n"
     ]
    },
    {
     "name": "stderr",
     "output_type": "stream",
     "text": [
      "\r",
      " 58%|█████▊    | 7/12 [00:10<00:06,  1.33s/it]"
     ]
    },
    {
     "name": "stdout",
     "output_type": "stream",
     "text": [
      "AdaBoostRegressor                                   -0.019412 1.3\n"
     ]
    },
    {
     "name": "stderr",
     "output_type": "stream",
     "text": [
      "\r",
      " 67%|██████▋   | 8/12 [00:12<00:05,  1.41s/it]"
     ]
    },
    {
     "name": "stdout",
     "output_type": "stream",
     "text": [
      "BaggingRegressor                                    -0.019260 1.6\n"
     ]
    },
    {
     "name": "stderr",
     "output_type": "stream",
     "text": [
      "\r",
      " 75%|███████▌  | 9/12 [00:20<00:10,  3.56s/it]"
     ]
    },
    {
     "name": "stdout",
     "output_type": "stream",
     "text": [
      "CatBoostRegressor                                   -0.018683 8.4\n",
      "SGDRegressor                                        -0.020215 0.0\n"
     ]
    },
    {
     "name": "stderr",
     "output_type": "stream",
     "text": [
      "100%|██████████| 12/12 [00:21<00:00,  1.79s/it]"
     ]
    },
    {
     "name": "stdout",
     "output_type": "stream",
     "text": [
      "ExtraTreesRegressor                                 -0.020771 0.8\n",
      "DecisionTreeRegressor                               -0.017857 0.0\n"
     ]
    },
    {
     "name": "stderr",
     "output_type": "stream",
     "text": [
      "\n"
     ]
    }
   ],
   "source": [
    "clfs = [\n",
    "   (\n",
    "        KNeighborsRegressor(),              # 사용하려는 모델\n",
    "        {'n_neighbors': [3,5,7,9,11],        # 최적화하려는 하이퍼파라미터\n",
    "         'weights': ['uniform','distance']}\n",
    "    ),\n",
    "    (\n",
    "        LinearRegression(),  \n",
    "        {\n",
    "         }\n",
    "    ),\n",
    "    (\n",
    "        RandomForestRegressor(random_state=0),\n",
    "        {'n_estimators': [100,200,300],\n",
    "         'max_depth': [3,4,5],}\n",
    "        # 'max_features': (np.arange(0.5, 1.0, 0.1)*X_train.shape[1]).astype(int)}\n",
    "    ),\n",
    "    (\n",
    "        GradientBoostingRegressor(random_state=0),\n",
    "        {'n_estimators': [100, 200, 300],\n",
    "         'learning_rate': [1, 0.1, 0.01],}\n",
    "        # 'max_features': (np.arange(0.5, 1.0, 0.1)*X_train.shape[1]).astype(int)}\n",
    "    ),\n",
    "    (\n",
    "        XGBRegressor(tree_method = 'hist', random_state=0),\n",
    "        {'min_child_weight': range(0, 121, 20),\n",
    "         'learning_rate': np.arange(0.1, 0.6, 0.1),\n",
    "         'subsample': np.arange(0.5, 1.0, 0.1)}\n",
    "    ),\n",
    "    (\n",
    "        LGBMRegressor(random_state=0),\n",
    "        {'min_child_weight': range(0, 121, 20),\n",
    "         'learning_rate': np.arange(0.1, 0.6, 0.1),\n",
    "         'subsample': np.arange(0.5, 1.0, 0.1)}\n",
    "    ),\n",
    "    (\n",
    "        AdaBoostRegressor(random_state=0),\n",
    "        {'n_estimators': [100, 200, 300],\n",
    "         'learning_rate': [1, 0.1, 0.01],}\n",
    "    ),\n",
    "    (\n",
    "        BaggingRegressor(random_state=0),\n",
    "        {'n_estimators': [100, 200, 300],\n",
    "         'max_features': (np.arange(0.5, 1.0, 0.1)*X_train2.shape[1]).astype(int)}\n",
    "    ),\n",
    "    (\n",
    "        CatBoostRegressor(random_state=0,verbose=0),\n",
    "        {'learning_rate': np.arange(0.1, 0.6, 0.1),\n",
    "         'depth': [3,4,5]}\n",
    "    ),\n",
    "    (\n",
    "        SGDRegressor(random_state=0),\n",
    "        {'penalty': ['l1','l2'],\n",
    "         'alpha': [0.001, 0.05, 1, 100, 200],\n",
    "         'max_iter': [1000, 2000, 3000]}\n",
    "    ),\n",
    "    (\n",
    "        ExtraTreesRegressor(random_state=0),\n",
    "        {'n_estimators': [100,200,300],\n",
    "         'max_depth': [3,4,5,6,7]}\n",
    "    ),\n",
    "    (\n",
    "        DecisionTreeRegressor(random_state=0),              \n",
    "        {'max_depth': range(2,9,1),        \n",
    "         'criterion': ['mse', 'friedman_mse', 'mae'],\n",
    "         'splitter': ['best','random']}\n",
    "    ),\n",
    "]\n",
    "\n",
    "clfs_tuned = []  # 튜닝된 모델을 저장\n",
    "\n",
    "sscv = ShuffleSplit(n_splits = 5, random_state = 0)\n",
    "\n",
    "for clf, param_grid in tqdm(clfs):\n",
    "    start = time.time()\n",
    "    rand_search = RandomizedSearchCV(clf, param_grid, n_iter=5, scoring='neg_mean_squared_error', \n",
    "                                     cv=sscv, random_state=0, n_jobs=-1)\n",
    "    rand_search.fit(X_train2, y_train)\n",
    "    clf_name = type(clf).__name__\n",
    "    clf_score = rand_search.score(X_valid, y_valid)\n",
    "    print('{:30s} {:30f} {:.1f}'.format(clf_name, clf_score, time.time() - start))\n",
    "    clfs_tuned.append((clf_name, rand_search, clf_score))"
   ]
  },
  {
   "cell_type": "markdown",
   "metadata": {},
   "source": [
    "## 5-1스태킹"
   ]
  },
  {
   "cell_type": "code",
   "execution_count": 173,
   "metadata": {},
   "outputs": [
    {
     "name": "stdout",
     "output_type": "stream",
     "text": [
      "0.020622430539014264\n"
     ]
    }
   ],
   "source": [
    "# Initialize 1st level estimators\n",
    "selected = [\n",
    "    'KNeighborsRegressor', \n",
    "    'LinearRegression', \n",
    "    'RandomForestRegressor', \n",
    "    'GradientBoostingRegressor',    \n",
    "    'XGBRegressor',\n",
    "    'LGBMRegressor',\n",
    "    'AdaBoostRegressor',\n",
    "    'BaggingRegressor',\n",
    "    'CatBoostRegressor',\n",
    "    'SGDRegressor',\n",
    "    'ExtraTreesRegressor',\n",
    "    'DecisionTreeRegressor',\n",
    "]\n",
    "estimators = [(name, clf) for name, clf, _ in clfs_tuned if name in selected]\n",
    "              \n",
    "# Initialize StackingTransformer\n",
    "stack = StackingTransformer(estimators, regression=True, needs_proba=True, metric=None,\n",
    "                            n_folds=3, stratified=True, shuffle=True, random_state=0)\n",
    "\n",
    "# Fit\n",
    "stack = stack.fit(X_train2, y_train)\n",
    "\n",
    "# Get your stacked features\n",
    "S_train = stack.transform(X_train2)\n",
    "S_valid = stack.transform(X_valid)\n",
    "S_test = stack.transform(X_test_select)\n",
    "\n",
    "# Use 2nd level estimator with stacked features\n",
    "meta_model = LinearRegression().fit(S_train, y_train)\n",
    "print(mean_squared_error(y_valid, meta_model.predict(S_valid)))  "
   ]
  },
  {
   "cell_type": "code",
   "execution_count": 174,
   "metadata": {},
   "outputs": [
    {
     "data": {
      "text/html": [
       "<div>\n",
       "<style scoped>\n",
       "    .dataframe tbody tr th:only-of-type {\n",
       "        vertical-align: middle;\n",
       "    }\n",
       "\n",
       "    .dataframe tbody tr th {\n",
       "        vertical-align: top;\n",
       "    }\n",
       "\n",
       "    .dataframe thead th {\n",
       "        text-align: right;\n",
       "    }\n",
       "</style>\n",
       "<table border=\"1\" class=\"dataframe\">\n",
       "  <thead>\n",
       "    <tr style=\"text-align: right;\">\n",
       "      <th></th>\n",
       "      <th>고유선수코드</th>\n",
       "      <th>장타율</th>\n",
       "    </tr>\n",
       "  </thead>\n",
       "  <tbody>\n",
       "    <tr>\n",
       "      <th>0</th>\n",
       "      <td>2021_50165</td>\n",
       "      <td>0.534686</td>\n",
       "    </tr>\n",
       "    <tr>\n",
       "      <th>1</th>\n",
       "      <td>2021_50458</td>\n",
       "      <td>0.204366</td>\n",
       "    </tr>\n",
       "    <tr>\n",
       "      <th>2</th>\n",
       "      <td>2021_50506</td>\n",
       "      <td>0.412494</td>\n",
       "    </tr>\n",
       "    <tr>\n",
       "      <th>3</th>\n",
       "      <td>2021_50704</td>\n",
       "      <td>0.431432</td>\n",
       "    </tr>\n",
       "    <tr>\n",
       "      <th>4</th>\n",
       "      <td>2021_50854</td>\n",
       "      <td>0.279348</td>\n",
       "    </tr>\n",
       "    <tr>\n",
       "      <th>...</th>\n",
       "      <td>...</td>\n",
       "      <td>...</td>\n",
       "    </tr>\n",
       "    <tr>\n",
       "      <th>112</th>\n",
       "      <td>2021_79240</td>\n",
       "      <td>0.507861</td>\n",
       "    </tr>\n",
       "    <tr>\n",
       "      <th>113</th>\n",
       "      <td>2021_79365</td>\n",
       "      <td>0.439003</td>\n",
       "    </tr>\n",
       "    <tr>\n",
       "      <th>114</th>\n",
       "      <td>2021_79402</td>\n",
       "      <td>0.262592</td>\n",
       "    </tr>\n",
       "    <tr>\n",
       "      <th>115</th>\n",
       "      <td>2021_79456</td>\n",
       "      <td>0.318436</td>\n",
       "    </tr>\n",
       "    <tr>\n",
       "      <th>116</th>\n",
       "      <td>2021_79608</td>\n",
       "      <td>0.534944</td>\n",
       "    </tr>\n",
       "  </tbody>\n",
       "</table>\n",
       "<p>117 rows × 2 columns</p>\n",
       "</div>"
      ],
      "text/plain": [
       "         고유선수코드       장타율\n",
       "0    2021_50165  0.534686\n",
       "1    2021_50458  0.204366\n",
       "2    2021_50506  0.412494\n",
       "3    2021_50704  0.431432\n",
       "4    2021_50854  0.279348\n",
       "..          ...       ...\n",
       "112  2021_79240  0.507861\n",
       "113  2021_79365  0.439003\n",
       "114  2021_79402  0.262592\n",
       "115  2021_79456  0.318436\n",
       "116  2021_79608  0.534944\n",
       "\n",
       "[117 rows x 2 columns]"
      ]
     },
     "execution_count": 174,
     "metadata": {},
     "output_type": "execute_result"
    }
   ],
   "source": [
    "# Apply the stacking model to Unseen Data\n",
    "me_pp2 = pd.DataFrame({'고유선수코드': X_test['고유선수코드'], '장타율': meta_model.predict(S_test)})\n",
    "#me_pp2.to_csv('new_장타율_17%features.csv', encoding='cp949', index=False)\n",
    "\n",
    "me_pp2"
   ]
  },
  {
   "cell_type": "code",
   "execution_count": 175,
   "metadata": {},
   "outputs": [],
   "source": [
    "target_2021 = ['2021_76232', '2021_68050', '2021_75847', '2021_67341', '2021_79192', '2021_78224', '2021_78513', '2021_76290','2021_79215', '2021_67872']"
   ]
  },
  {
   "cell_type": "code",
   "execution_count": 176,
   "metadata": {},
   "outputs": [
    {
     "data": {
      "text/html": [
       "<div>\n",
       "<style scoped>\n",
       "    .dataframe tbody tr th:only-of-type {\n",
       "        vertical-align: middle;\n",
       "    }\n",
       "\n",
       "    .dataframe tbody tr th {\n",
       "        vertical-align: top;\n",
       "    }\n",
       "\n",
       "    .dataframe thead th {\n",
       "        text-align: right;\n",
       "    }\n",
       "</style>\n",
       "<table border=\"1\" class=\"dataframe\">\n",
       "  <thead>\n",
       "    <tr style=\"text-align: right;\">\n",
       "      <th></th>\n",
       "      <th>고유선수코드</th>\n",
       "      <th>장타율</th>\n",
       "    </tr>\n",
       "  </thead>\n",
       "  <tbody>\n",
       "    <tr>\n",
       "      <th>61</th>\n",
       "      <td>2021_67341</td>\n",
       "      <td>0.522168</td>\n",
       "    </tr>\n",
       "    <tr>\n",
       "      <th>62</th>\n",
       "      <td>2021_67872</td>\n",
       "      <td>0.404790</td>\n",
       "    </tr>\n",
       "    <tr>\n",
       "      <th>64</th>\n",
       "      <td>2021_68050</td>\n",
       "      <td>0.538991</td>\n",
       "    </tr>\n",
       "    <tr>\n",
       "      <th>89</th>\n",
       "      <td>2021_75847</td>\n",
       "      <td>0.472589</td>\n",
       "    </tr>\n",
       "    <tr>\n",
       "      <th>90</th>\n",
       "      <td>2021_76232</td>\n",
       "      <td>0.543325</td>\n",
       "    </tr>\n",
       "    <tr>\n",
       "      <th>92</th>\n",
       "      <td>2021_76290</td>\n",
       "      <td>0.471668</td>\n",
       "    </tr>\n",
       "    <tr>\n",
       "      <th>102</th>\n",
       "      <td>2021_78224</td>\n",
       "      <td>0.548319</td>\n",
       "    </tr>\n",
       "    <tr>\n",
       "      <th>104</th>\n",
       "      <td>2021_78513</td>\n",
       "      <td>0.481132</td>\n",
       "    </tr>\n",
       "    <tr>\n",
       "      <th>109</th>\n",
       "      <td>2021_79192</td>\n",
       "      <td>0.550025</td>\n",
       "    </tr>\n",
       "    <tr>\n",
       "      <th>110</th>\n",
       "      <td>2021_79215</td>\n",
       "      <td>0.501671</td>\n",
       "    </tr>\n",
       "  </tbody>\n",
       "</table>\n",
       "</div>"
      ],
      "text/plain": [
       "         고유선수코드       장타율\n",
       "61   2021_67341  0.522168\n",
       "62   2021_67872  0.404790\n",
       "64   2021_68050  0.538991\n",
       "89   2021_75847  0.472589\n",
       "90   2021_76232  0.543325\n",
       "92   2021_76290  0.471668\n",
       "102  2021_78224  0.548319\n",
       "104  2021_78513  0.481132\n",
       "109  2021_79192  0.550025\n",
       "110  2021_79215  0.501671"
      ]
     },
     "execution_count": 176,
     "metadata": {},
     "output_type": "execute_result"
    }
   ],
   "source": [
    "#10명의 선수들 장타율 확인\n",
    "me_pp2.query('고유선수코드 in @target_2021')"
   ]
  },
  {
   "cell_type": "markdown",
   "metadata": {},
   "source": [
    "# 딥러닝 모델링"
   ]
  },
  {
   "cell_type": "code",
   "execution_count": 177,
   "metadata": {},
   "outputs": [],
   "source": [
    "X_train2, X_valid, y_train, y_valid = train_test_split(X_train_select2, y2, test_size=0.2, random_state=0)"
   ]
  },
  {
   "cell_type": "code",
   "execution_count": null,
   "metadata": {},
   "outputs": [],
   "source": []
  },
  {
   "cell_type": "code",
   "execution_count": 178,
   "metadata": {},
   "outputs": [
    {
     "name": "stdout",
     "output_type": "stream",
     "text": [
      "tf Version \n",
      " 2.4.1\n",
      "tf.keras Version \n",
      " 2.4.0\n"
     ]
    }
   ],
   "source": [
    "#딥러닝 패키지\n",
    "import tensorflow.keras as keras\n",
    "import tensorflow as tf\n",
    "from tensorflow.keras import backend as K\n",
    "from tensorflow.keras.models import * #Model\n",
    "from tensorflow.keras.optimizers import *\n",
    "from tensorflow.keras.regularizers import *\n",
    "#from tensorflow.keras.utils.np_utils import *\n",
    "#from tensorflow.keras.utils.vis_utils import * #model_to_dot\n",
    "from tensorflow.keras.callbacks import ModelCheckpoint,EarlyStopping\n",
    "from tensorflow.keras.losses import *\n",
    "from tensorflow.keras import layers\n",
    "print('tf Version \\n', tf.__version__)\n",
    "print('tf.keras Version \\n', tf.keras.__version__)\n",
    "\n",
    "from hyperopt import hp\n",
    "from hyperopt.pyll.stochastic import sample\n",
    "from hyperopt import STATUS_OK\n",
    "from hyperopt import fmin,rand,tpe,Trials"
   ]
  },
  {
   "cell_type": "code",
   "execution_count": 179,
   "metadata": {},
   "outputs": [],
   "source": [
    "# 매번 모델링을 할 때마다 동일한 결과를 얻으려면 아래 코드를 실행해야 함.\n",
    "\n",
    "def reset_seeds(s1,s2,s3, reset_graph_with_backend=None):\n",
    "    if reset_graph_with_backend is not None:\n",
    "        K = reset_graph_with_backend\n",
    "        K.clear_session()\n",
    "        tf.compat.v1.reset_default_graph()\n",
    "        print(\"KERAS AND TENSORFLOW GRAPHS RESET\")  # optional\n",
    "\n",
    "    np.random.seed(s1)\n",
    "    random.seed(s2)\n",
    "    tf.compat.v1.set_random_seed(s3)\n",
    "#    os.environ['CUDA_VISIBLE_DEVICES'] = ''  # for GPU\n",
    "#    print(\"RANDOM SEEDS RESET\")  # optional"
   ]
  },
  {
   "cell_type": "code",
   "execution_count": 180,
   "metadata": {},
   "outputs": [],
   "source": [
    "def model_fn(hp):\n",
    "    inputs = keras.Input(shape=(X_train2.shape[1],))\n",
    "    x = inputs\n",
    "    for i in range(hp.Int('num_layers', 2, 3)):\n",
    "        x = keras.layers.Dense(hp.Int('unit_'+str(i), 16, 64, step=16), activation='relu')(x)\n",
    "        x = keras.layers.Dropout(hp.Float('dropout_'+str(i), 0, 0.5, step=0.25, default=0.5))(x) #0프로 25프로 50프로\n",
    "    outputs = keras.layers.Dense(1, activation='linear')(x)\n",
    "    model = keras.Model(inputs, outputs)\n",
    "    model.compile(loss='mse', \n",
    "                  optimizer=tf.keras.optimizers.Adam(hp.Choice('learning_rate', [1e-2, 1e-3, 1e-4])), \n",
    "                  metrics=[keras.metrics.RootMeanSquaredError()])\n",
    "    return model"
   ]
  },
  {
   "cell_type": "code",
   "execution_count": 181,
   "metadata": {},
   "outputs": [
    {
     "name": "stdout",
     "output_type": "stream",
     "text": [
      "Trial 180 Complete [00h 00m 01s]\n",
      "val_root_mean_squared_error: 0.217149555683136\n",
      "\n",
      "Best val_root_mean_squared_error So Far: 0.13273261487483978\n",
      "Total elapsed time: 00h 03m 03s\n",
      "INFO:tensorflow:Oracle triggered exit\n"
     ]
    }
   ],
   "source": [
    "tuner = kt.Hyperband(model_fn,\n",
    "                     objective=kt.Objective('val_root_mean_squared_error', direction=\"min\"), \n",
    "                     max_epochs=50,\n",
    "                     hyperband_iterations=2,\n",
    "                     overwrite=True,\n",
    "                     directory='dnn_tuning') #폴더에 튜닝한 결과가 파일로 저장됨, 오버라이트 트루로 하는게 편함\n",
    "\n",
    "tuner.search(X_train2, y_train, validation_data=(X_valid, y_valid), \n",
    "             callbacks=[tf.keras.callbacks.EarlyStopping(patience=1)])"
   ]
  },
  {
   "cell_type": "code",
   "execution_count": 182,
   "metadata": {},
   "outputs": [
    {
     "name": "stderr",
     "output_type": "stream",
     "text": [
      "\r",
      "  0%|          | 0/5 [00:00<?, ?it/s]"
     ]
    },
    {
     "name": "stdout",
     "output_type": "stream",
     "text": [
      "INFO:tensorflow:Oracle triggered exit\n"
     ]
    },
    {
     "name": "stderr",
     "output_type": "stream",
     "text": [
      "\r",
      " 20%|██        | 1/5 [00:50<03:23, 50.89s/it]"
     ]
    },
    {
     "name": "stdout",
     "output_type": "stream",
     "text": [
      "INFO:tensorflow:Oracle triggered exit\n"
     ]
    },
    {
     "name": "stderr",
     "output_type": "stream",
     "text": [
      "\r",
      " 40%|████      | 2/5 [01:42<02:34, 51.50s/it]"
     ]
    },
    {
     "name": "stdout",
     "output_type": "stream",
     "text": [
      "WARNING:tensorflow:Unresolved object in checkpoint: (root).optimizer.iter\n",
      "WARNING:tensorflow:Unresolved object in checkpoint: (root).optimizer.beta_1\n",
      "WARNING:tensorflow:Unresolved object in checkpoint: (root).optimizer.beta_2\n",
      "WARNING:tensorflow:Unresolved object in checkpoint: (root).optimizer.decay\n",
      "WARNING:tensorflow:Unresolved object in checkpoint: (root).optimizer.learning_rate\n",
      "WARNING:tensorflow:A checkpoint was restored (e.g. tf.train.Checkpoint.restore or tf.keras.Model.load_weights) but not all checkpointed values were used. See above for specific issues. Use expect_partial() on the load status object, e.g. tf.train.Checkpoint.restore(...).expect_partial(), to silence these warnings, or use assert_consumed() to make the check explicit. See https://www.tensorflow.org/guide/checkpoint#loading_mechanics for details.\n",
      "WARNING:tensorflow:Callback method `on_train_batch_end` is slow compared to the batch time (batch time: 0.0004s vs `on_train_batch_end` time: 0.0007s). Check your callbacks.\n",
      "INFO:tensorflow:Oracle triggered exit\n"
     ]
    },
    {
     "name": "stderr",
     "output_type": "stream",
     "text": [
      "\r",
      " 60%|██████    | 3/5 [02:35<01:43, 51.93s/it]"
     ]
    },
    {
     "name": "stdout",
     "output_type": "stream",
     "text": [
      "WARNING:tensorflow:Unresolved object in checkpoint: (root).optimizer.iter\n",
      "WARNING:tensorflow:Unresolved object in checkpoint: (root).optimizer.beta_1\n",
      "WARNING:tensorflow:Unresolved object in checkpoint: (root).optimizer.beta_2\n",
      "WARNING:tensorflow:Unresolved object in checkpoint: (root).optimizer.decay\n",
      "WARNING:tensorflow:Unresolved object in checkpoint: (root).optimizer.learning_rate\n",
      "WARNING:tensorflow:A checkpoint was restored (e.g. tf.train.Checkpoint.restore or tf.keras.Model.load_weights) but not all checkpointed values were used. See above for specific issues. Use expect_partial() on the load status object, e.g. tf.train.Checkpoint.restore(...).expect_partial(), to silence these warnings, or use assert_consumed() to make the check explicit. See https://www.tensorflow.org/guide/checkpoint#loading_mechanics for details.\n",
      "INFO:tensorflow:Oracle triggered exit\n"
     ]
    },
    {
     "name": "stderr",
     "output_type": "stream",
     "text": [
      "\r",
      " 80%|████████  | 4/5 [03:25<00:51, 51.21s/it]"
     ]
    },
    {
     "name": "stdout",
     "output_type": "stream",
     "text": [
      "WARNING:tensorflow:Unresolved object in checkpoint: (root).optimizer.iter\n",
      "WARNING:tensorflow:Unresolved object in checkpoint: (root).optimizer.beta_1\n",
      "WARNING:tensorflow:Unresolved object in checkpoint: (root).optimizer.beta_2\n",
      "WARNING:tensorflow:Unresolved object in checkpoint: (root).optimizer.decay\n",
      "WARNING:tensorflow:Unresolved object in checkpoint: (root).optimizer.learning_rate\n",
      "WARNING:tensorflow:A checkpoint was restored (e.g. tf.train.Checkpoint.restore or tf.keras.Model.load_weights) but not all checkpointed values were used. See above for specific issues. Use expect_partial() on the load status object, e.g. tf.train.Checkpoint.restore(...).expect_partial(), to silence these warnings, or use assert_consumed() to make the check explicit. See https://www.tensorflow.org/guide/checkpoint#loading_mechanics for details.\n",
      "INFO:tensorflow:Oracle triggered exit\n"
     ]
    },
    {
     "name": "stderr",
     "output_type": "stream",
     "text": [
      "100%|██████████| 5/5 [04:17<00:00, 51.59s/it]\n"
     ]
    }
   ],
   "source": [
    "N = 5\n",
    "rmses = []\n",
    "preds = []\n",
    "\n",
    "for i in tqdm(range(N)):\n",
    "    reset_seeds(i,i*10,i*100)\n",
    "    tuner = kt.Hyperband(model_fn,\n",
    "                     objective=kt.Objective('val_root_mean_squared_error', direction=\"min\"), \n",
    "                     max_epochs=10,\n",
    "                     hyperband_iterations=2,\n",
    "                     overwrite=True,\n",
    "                     directory='dnn_tuning')\n",
    "    tuner.search(X_train2, y_train, validation_data=(X_valid, y_valid), \n",
    "             callbacks=[tf.keras.callbacks.EarlyStopping(patience=1)], verbose=0)\n",
    "    model = tuner.get_best_models(1)[0]\n",
    "    #rmses.append(model.evaluate(X_test_select, y_test)[1])\n",
    "    preds.append(model.predict(X_test_select2).flatten())    "
   ]
  },
  {
   "cell_type": "code",
   "execution_count": 183,
   "metadata": {},
   "outputs": [
    {
     "data": {
      "text/plain": [
       "[array([0.43292361, 0.35286152, 0.31238586, 0.439211  , 0.30824664,\n",
       "        0.37283543, 0.3724106 , 0.36428273, 0.36480832, 0.3719156 ,\n",
       "        0.34689766, 0.33643645, 0.38442963, 0.34307277, 0.33563095,\n",
       "        0.3629174 , 0.36140633, 0.31874883, 0.32940668, 0.38049373,\n",
       "        0.51381475, 0.38913688, 0.33921915, 0.31324652, 0.38760865,\n",
       "        0.3905657 , 0.31656727, 0.3414489 , 0.44096005, 0.39162004,\n",
       "        0.3889823 , 0.351035  , 0.3722067 , 0.36463973, 0.38726118,\n",
       "        0.33531657, 0.37375966, 0.3229332 , 0.4099043 , 0.35977715,\n",
       "        0.46193492, 0.3569278 , 0.31588382, 0.3855598 , 0.30973622,\n",
       "        0.36893994, 0.37111735, 0.33388418, 0.3437557 , 0.38213414,\n",
       "        0.3997844 , 0.31297216, 0.30734238, 0.37896824, 0.38532132,\n",
       "        0.38655418, 0.34730613, 0.31562212, 0.36652446, 0.41868904,\n",
       "        0.33225915, 0.33712882, 0.38376057, 0.30703947, 0.50069875,\n",
       "        0.33902693, 0.3505759 , 0.32183594, 0.32890877, 0.3388007 ,\n",
       "        0.37367642, 0.33875382, 0.3834517 , 0.45534503, 0.44264686,\n",
       "        0.3641103 , 0.32912898, 0.38194177, 0.39713794, 0.37600818,\n",
       "        0.30213773, 0.3592354 , 0.3207119 , 0.34728193, 0.3892069 ,\n",
       "        0.3627641 , 0.37282044, 0.41708207, 0.33900082, 0.3393485 ,\n",
       "        0.4003267 , 0.35229605, 0.3350609 , 0.34947267, 0.34909976,\n",
       "        0.31721497, 0.3219517 , 0.32879162, 0.35091716, 0.4395519 ,\n",
       "        0.33571386, 0.33466345, 0.3795671 , 0.3308851 , 0.34469864,\n",
       "        0.37795228, 0.3396365 , 0.3114553 , 0.35450643, 0.32060924,\n",
       "        0.3405382 , 0.3681652 , 0.33512378, 0.3606233 , 0.34523517,\n",
       "        0.35041463, 0.3359934 ], dtype=float32),\n",
       " array([0.4239453 , 0.4239453 , 0.4239453 , 0.4016294 , 0.4239453 ,\n",
       "        0.44354075, 0.41290373, 0.40467346, 0.40449798, 0.4072526 ,\n",
       "        0.42230487, 0.4646855 , 0.40885222, 0.4239453 , 0.40511674,\n",
       "        0.4239453 , 0.41593266, 0.41749734, 0.42121226, 0.4035024 ,\n",
       "        0.40369385, 0.408836  , 0.41702938, 0.43921226, 0.41785896,\n",
       "        0.40441734, 0.42518938, 0.4239453 , 0.49569207, 0.3877942 ,\n",
       "        0.42716962, 0.44338948, 0.4518488 , 0.4212156 , 0.41479605,\n",
       "        0.42699468, 0.41056025, 0.39978296, 0.42341334, 0.4239453 ,\n",
       "        0.42639565, 0.40360224, 0.47968227, 0.40047437, 0.44184595,\n",
       "        0.4243092 , 0.4239453 , 0.4239453 , 0.4239453 , 0.4239453 ,\n",
       "        0.40453243, 0.40340865, 0.4257599 , 0.4239453 , 0.40445113,\n",
       "        0.4239453 , 0.40987802, 0.46128112, 0.4221244 , 0.4239453 ,\n",
       "        0.41423237, 0.4239453 , 0.42743784, 0.4239453 , 0.41477817,\n",
       "        0.41983414, 0.4248042 , 0.4276899 , 0.424191  , 0.41680634,\n",
       "        0.4239453 , 0.4239453 , 0.4239453 , 0.45287704, 0.4044143 ,\n",
       "        0.4436444 , 0.4239453 , 0.42133385, 0.4237234 , 0.4239453 ,\n",
       "        0.4239453 , 0.40474588, 0.429801  , 0.42098355, 0.46380764,\n",
       "        0.42734534, 0.42376667, 0.48696977, 0.41484118, 0.5051298 ,\n",
       "        0.44572932, 0.43088722, 0.4144488 , 0.42430598, 0.4239453 ,\n",
       "        0.41569626, 0.4239453 , 0.42413133, 0.4239453 , 0.40318054,\n",
       "        0.4239453 , 0.42193472, 0.4790299 , 0.4239453 , 0.4247524 ,\n",
       "        0.44324756, 0.4239453 , 0.4239453 , 0.4239453 , 0.43513262,\n",
       "        0.416884  , 0.42235994, 0.4242823 , 0.4438237 , 0.4239453 ,\n",
       "        0.40217268, 0.43339503], dtype=float32),\n",
       " array([0.344723  , 0.3104906 , 0.31586075, 0.386441  , 0.30298233,\n",
       "        0.46915513, 0.36867473, 0.3276922 , 0.36313495, 0.44737267,\n",
       "        0.32721213, 0.42974037, 0.40665865, 0.30852914, 0.3246603 ,\n",
       "        0.32992238, 0.36655647, 0.3313139 , 0.39912477, 0.3441609 ,\n",
       "        0.57431614, 0.33622843, 0.38355422, 0.3183934 , 0.36017132,\n",
       "        0.3631975 , 0.38823706, 0.36198306, 0.45522612, 0.33967865,\n",
       "        0.39620367, 0.3850335 , 0.43607718, 0.33481723, 0.31161505,\n",
       "        0.2985446 , 0.3343343 , 0.35798752, 0.38767892, 0.35229245,\n",
       "        0.4147636 , 0.33686084, 0.45066726, 0.3911875 , 0.37787974,\n",
       "        0.36667612, 0.35083407, 0.29497975, 0.31095305, 0.34817457,\n",
       "        0.29018438, 0.31112432, 0.39662892, 0.32734263, 0.36835265,\n",
       "        0.35914558, 0.32057536, 0.34904832, 0.3113569 , 0.39624733,\n",
       "        0.32819957, 0.4452477 , 0.33878678, 0.37671483, 0.3758278 ,\n",
       "        0.38509017, 0.31913275, 0.29839313, 0.34444875, 0.32794163,\n",
       "        0.3333595 , 0.32312793, 0.34928665, 0.3205686 , 0.39532012,\n",
       "        0.38780296, 0.32546914, 0.35362536, 0.35950828, 0.36173207,\n",
       "        0.320603  , 0.3497122 , 0.3957284 , 0.347898  , 0.3733769 ,\n",
       "        0.38885438, 0.35758346, 0.3657556 , 0.3496133 , 0.5251464 ,\n",
       "        0.5273361 , 0.36825144, 0.32891706, 0.41042978, 0.31898826,\n",
       "        0.33758622, 0.33463866, 0.31319517, 0.31129873, 0.3257201 ,\n",
       "        0.32425648, 0.30614203, 0.44659525, 0.32046688, 0.40820044,\n",
       "        0.3281814 , 0.34860095, 0.29030347, 0.31888676, 0.41382623,\n",
       "        0.34895533, 0.36750412, 0.29333124, 0.44948447, 0.31770235,\n",
       "        0.31250566, 0.39095336], dtype=float32),\n",
       " array([0.45161298, 0.39010766, 0.44358274, 0.34244955, 0.45784894,\n",
       "        0.46498266, 0.44102105, 0.39073423, 0.37545606, 0.47170252,\n",
       "        0.4320456 , 0.46331525, 0.5221441 , 0.4059415 , 0.3854117 ,\n",
       "        0.4441049 , 0.43356714, 0.41307297, 0.4540786 , 0.39865986,\n",
       "        0.44646826, 0.4263744 , 0.4680383 , 0.44233897, 0.37662938,\n",
       "        0.39447546, 0.43557802, 0.41402873, 0.48502997, 0.3752455 ,\n",
       "        0.42826486, 0.4947831 , 0.46908465, 0.4603521 , 0.4313048 ,\n",
       "        0.4527628 , 0.3833944 , 0.40413967, 0.37020373, 0.3903021 ,\n",
       "        0.45767835, 0.4173922 , 0.47924697, 0.45847902, 0.42899305,\n",
       "        0.37508088, 0.42325702, 0.3967795 , 0.43998235, 0.43403003,\n",
       "        0.4687316 , 0.379603  , 0.40626043, 0.46274063, 0.404739  ,\n",
       "        0.42598748, 0.38758785, 0.4920644 , 0.44746748, 0.4277734 ,\n",
       "        0.4567147 , 0.5713761 , 0.4486832 , 0.43919006, 0.71587694,\n",
       "        0.4040641 , 0.45320162, 0.44654456, 0.45644608, 0.48093298,\n",
       "        0.37088433, 0.44111833, 0.391523  , 0.55251646, 0.3865137 ,\n",
       "        0.4620845 , 0.45655644, 0.41805804, 0.4615678 , 0.3952184 ,\n",
       "        0.44430065, 0.41460362, 0.3839353 , 0.47354156, 0.4876996 ,\n",
       "        0.44627318, 0.4277298 , 0.5534032 , 0.44294202, 0.47229016,\n",
       "        0.583374  , 0.45837697, 0.43142763, 0.5576686 , 0.43900192,\n",
       "        0.40185753, 0.39404324, 0.41248623, 0.41846123, 0.45112637,\n",
       "        0.43517366, 0.43778458, 0.463439  , 0.44421148, 0.45607677,\n",
       "        0.41829386, 0.3719433 , 0.43535143, 0.43195522, 0.4639581 ,\n",
       "        0.48265925, 0.42030856, 0.44630507, 0.4681879 , 0.4709907 ,\n",
       "        0.39759848, 0.4646641 ], dtype=float32),\n",
       " array([0.34160826, 0.31539968, 0.3799657 , 0.49297166, 0.34915188,\n",
       "        0.40461493, 0.39355385, 0.35914823, 0.35373667, 0.364174  ,\n",
       "        0.40331364, 0.4132967 , 0.41517356, 0.324598  , 0.44046694,\n",
       "        0.35750988, 0.3146517 , 0.3548443 , 0.3819336 , 0.38126117,\n",
       "        0.39025086, 0.34523728, 0.37316576, 0.38740182, 0.35051972,\n",
       "        0.41469175, 0.39727667, 0.39275146, 0.4486105 , 0.38889724,\n",
       "        0.3931263 , 0.3881465 , 0.41130272, 0.36976168, 0.40034607,\n",
       "        0.38934946, 0.37781933, 0.38475287, 0.38078815, 0.3489043 ,\n",
       "        0.3431748 , 0.40592903, 0.38726377, 0.44021368, 0.3797555 ,\n",
       "        0.36098075, 0.31472987, 0.32950002, 0.35493508, 0.41691032,\n",
       "        0.41457474, 0.3874389 , 0.39102572, 0.38542938, 0.3098813 ,\n",
       "        0.35061243, 0.39377716, 0.36220038, 0.3867515 , 0.4847843 ,\n",
       "        0.41072774, 0.4017285 , 0.38726872, 0.38681707, 0.41244695,\n",
       "        0.36575282, 0.402531  , 0.38529956, 0.34169835, 0.38191247,\n",
       "        0.34743455, 0.39300272, 0.32246777, 0.36286256, 0.42978746,\n",
       "        0.4019089 , 0.36659867, 0.37437811, 0.38579196, 0.341109  ,\n",
       "        0.39007425, 0.31916866, 0.38163197, 0.39282525, 0.40232307,\n",
       "        0.43783146, 0.36177146, 0.38307667, 0.3448124 , 0.3807834 ,\n",
       "        0.45861208, 0.450229  , 0.40926296, 0.4159596 , 0.36288345,\n",
       "        0.3847898 , 0.37250993, 0.41583383, 0.35940063, 0.45056164,\n",
       "        0.3674448 , 0.38138393, 0.41011   , 0.33866954, 0.39063606,\n",
       "        0.42464364, 0.38735455, 0.43713474, 0.30230457, 0.39331508,\n",
       "        0.39123002, 0.293426  , 0.3938034 , 0.3950944 , 0.3422345 ,\n",
       "        0.34090546, 0.39799622], dtype=float32)]"
      ]
     },
     "execution_count": 183,
     "metadata": {},
     "output_type": "execute_result"
    }
   ],
   "source": [
    "preds"
   ]
  },
  {
   "cell_type": "code",
   "execution_count": 184,
   "metadata": {
    "scrolled": false
   },
   "outputs": [],
   "source": [
    "me_pp = pd.DataFrame({'고유선수코드': X_test['고유선수코드'], '장타율': preds[3]})\n",
    "#me_pp.to_csv('new_장타율_딥러닝_찐막.csv', encoding='cp949', index=False)\n"
   ]
  },
  {
   "cell_type": "code",
   "execution_count": 186,
   "metadata": {},
   "outputs": [
    {
     "data": {
      "text/html": [
       "<div>\n",
       "<style scoped>\n",
       "    .dataframe tbody tr th:only-of-type {\n",
       "        vertical-align: middle;\n",
       "    }\n",
       "\n",
       "    .dataframe tbody tr th {\n",
       "        vertical-align: top;\n",
       "    }\n",
       "\n",
       "    .dataframe thead th {\n",
       "        text-align: right;\n",
       "    }\n",
       "</style>\n",
       "<table border=\"1\" class=\"dataframe\">\n",
       "  <thead>\n",
       "    <tr style=\"text-align: right;\">\n",
       "      <th></th>\n",
       "      <th>고유선수코드</th>\n",
       "      <th>장타율</th>\n",
       "    </tr>\n",
       "  </thead>\n",
       "  <tbody>\n",
       "    <tr>\n",
       "      <th>61</th>\n",
       "      <td>2021_67341</td>\n",
       "      <td>0.571376</td>\n",
       "    </tr>\n",
       "    <tr>\n",
       "      <th>62</th>\n",
       "      <td>2021_67872</td>\n",
       "      <td>0.448683</td>\n",
       "    </tr>\n",
       "    <tr>\n",
       "      <th>64</th>\n",
       "      <td>2021_68050</td>\n",
       "      <td>0.715877</td>\n",
       "    </tr>\n",
       "    <tr>\n",
       "      <th>89</th>\n",
       "      <td>2021_75847</td>\n",
       "      <td>0.472290</td>\n",
       "    </tr>\n",
       "    <tr>\n",
       "      <th>90</th>\n",
       "      <td>2021_76232</td>\n",
       "      <td>0.583374</td>\n",
       "    </tr>\n",
       "    <tr>\n",
       "      <th>92</th>\n",
       "      <td>2021_76290</td>\n",
       "      <td>0.431428</td>\n",
       "    </tr>\n",
       "    <tr>\n",
       "      <th>102</th>\n",
       "      <td>2021_78224</td>\n",
       "      <td>0.463439</td>\n",
       "    </tr>\n",
       "    <tr>\n",
       "      <th>104</th>\n",
       "      <td>2021_78513</td>\n",
       "      <td>0.456077</td>\n",
       "    </tr>\n",
       "    <tr>\n",
       "      <th>109</th>\n",
       "      <td>2021_79192</td>\n",
       "      <td>0.463958</td>\n",
       "    </tr>\n",
       "    <tr>\n",
       "      <th>110</th>\n",
       "      <td>2021_79215</td>\n",
       "      <td>0.482659</td>\n",
       "    </tr>\n",
       "  </tbody>\n",
       "</table>\n",
       "</div>"
      ],
      "text/plain": [
       "         고유선수코드       장타율\n",
       "61   2021_67341  0.571376\n",
       "62   2021_67872  0.448683\n",
       "64   2021_68050  0.715877\n",
       "89   2021_75847  0.472290\n",
       "90   2021_76232  0.583374\n",
       "92   2021_76290  0.431428\n",
       "102  2021_78224  0.463439\n",
       "104  2021_78513  0.456077\n",
       "109  2021_79192  0.463958\n",
       "110  2021_79215  0.482659"
      ]
     },
     "execution_count": 186,
     "metadata": {},
     "output_type": "execute_result"
    }
   ],
   "source": [
    "me_pp.query('고유선수코드 in @target_2021')"
   ]
  },
  {
   "cell_type": "code",
   "execution_count": 187,
   "metadata": {},
   "outputs": [
    {
     "data": {
      "text/html": [
       "<div>\n",
       "<style scoped>\n",
       "    .dataframe tbody tr th:only-of-type {\n",
       "        vertical-align: middle;\n",
       "    }\n",
       "\n",
       "    .dataframe tbody tr th {\n",
       "        vertical-align: top;\n",
       "    }\n",
       "\n",
       "    .dataframe thead th {\n",
       "        text-align: right;\n",
       "    }\n",
       "</style>\n",
       "<table border=\"1\" class=\"dataframe\">\n",
       "  <thead>\n",
       "    <tr style=\"text-align: right;\">\n",
       "      <th></th>\n",
       "      <th>고유선수코드</th>\n",
       "      <th>장타율</th>\n",
       "    </tr>\n",
       "  </thead>\n",
       "  <tbody>\n",
       "    <tr>\n",
       "      <th>61</th>\n",
       "      <td>2021_67341</td>\n",
       "      <td>0.522168</td>\n",
       "    </tr>\n",
       "    <tr>\n",
       "      <th>62</th>\n",
       "      <td>2021_67872</td>\n",
       "      <td>0.404790</td>\n",
       "    </tr>\n",
       "    <tr>\n",
       "      <th>64</th>\n",
       "      <td>2021_68050</td>\n",
       "      <td>0.538991</td>\n",
       "    </tr>\n",
       "    <tr>\n",
       "      <th>89</th>\n",
       "      <td>2021_75847</td>\n",
       "      <td>0.472589</td>\n",
       "    </tr>\n",
       "    <tr>\n",
       "      <th>90</th>\n",
       "      <td>2021_76232</td>\n",
       "      <td>0.543325</td>\n",
       "    </tr>\n",
       "    <tr>\n",
       "      <th>92</th>\n",
       "      <td>2021_76290</td>\n",
       "      <td>0.471668</td>\n",
       "    </tr>\n",
       "    <tr>\n",
       "      <th>102</th>\n",
       "      <td>2021_78224</td>\n",
       "      <td>0.548319</td>\n",
       "    </tr>\n",
       "    <tr>\n",
       "      <th>104</th>\n",
       "      <td>2021_78513</td>\n",
       "      <td>0.481132</td>\n",
       "    </tr>\n",
       "    <tr>\n",
       "      <th>109</th>\n",
       "      <td>2021_79192</td>\n",
       "      <td>0.550025</td>\n",
       "    </tr>\n",
       "    <tr>\n",
       "      <th>110</th>\n",
       "      <td>2021_79215</td>\n",
       "      <td>0.501671</td>\n",
       "    </tr>\n",
       "  </tbody>\n",
       "</table>\n",
       "</div>"
      ],
      "text/plain": [
       "         고유선수코드       장타율\n",
       "61   2021_67341  0.522168\n",
       "62   2021_67872  0.404790\n",
       "64   2021_68050  0.538991\n",
       "89   2021_75847  0.472589\n",
       "90   2021_76232  0.543325\n",
       "92   2021_76290  0.471668\n",
       "102  2021_78224  0.548319\n",
       "104  2021_78513  0.481132\n",
       "109  2021_79192  0.550025\n",
       "110  2021_79215  0.501671"
      ]
     },
     "execution_count": 187,
     "metadata": {},
     "output_type": "execute_result"
    }
   ],
   "source": [
    "me_pp2.query('고유선수코드 in @target_2021')"
   ]
  },
  {
   "cell_type": "code",
   "execution_count": 188,
   "metadata": {},
   "outputs": [
    {
     "data": {
      "text/html": [
       "<div>\n",
       "<style scoped>\n",
       "    .dataframe tbody tr th:only-of-type {\n",
       "        vertical-align: middle;\n",
       "    }\n",
       "\n",
       "    .dataframe tbody tr th {\n",
       "        vertical-align: top;\n",
       "    }\n",
       "\n",
       "    .dataframe thead th {\n",
       "        text-align: right;\n",
       "    }\n",
       "</style>\n",
       "<table border=\"1\" class=\"dataframe\">\n",
       "  <thead>\n",
       "    <tr style=\"text-align: right;\">\n",
       "      <th></th>\n",
       "      <th>고유선수코드</th>\n",
       "      <th>장타율</th>\n",
       "    </tr>\n",
       "  </thead>\n",
       "  <tbody>\n",
       "    <tr>\n",
       "      <th>61</th>\n",
       "      <td>2021_67341</td>\n",
       "      <td>0.571376</td>\n",
       "    </tr>\n",
       "    <tr>\n",
       "      <th>62</th>\n",
       "      <td>2021_67872</td>\n",
       "      <td>0.448683</td>\n",
       "    </tr>\n",
       "    <tr>\n",
       "      <th>64</th>\n",
       "      <td>2021_68050</td>\n",
       "      <td>0.715877</td>\n",
       "    </tr>\n",
       "    <tr>\n",
       "      <th>89</th>\n",
       "      <td>2021_75847</td>\n",
       "      <td>0.472290</td>\n",
       "    </tr>\n",
       "    <tr>\n",
       "      <th>90</th>\n",
       "      <td>2021_76232</td>\n",
       "      <td>0.583374</td>\n",
       "    </tr>\n",
       "    <tr>\n",
       "      <th>92</th>\n",
       "      <td>2021_76290</td>\n",
       "      <td>0.431428</td>\n",
       "    </tr>\n",
       "    <tr>\n",
       "      <th>102</th>\n",
       "      <td>2021_78224</td>\n",
       "      <td>0.463439</td>\n",
       "    </tr>\n",
       "    <tr>\n",
       "      <th>104</th>\n",
       "      <td>2021_78513</td>\n",
       "      <td>0.456077</td>\n",
       "    </tr>\n",
       "    <tr>\n",
       "      <th>109</th>\n",
       "      <td>2021_79192</td>\n",
       "      <td>0.463958</td>\n",
       "    </tr>\n",
       "    <tr>\n",
       "      <th>110</th>\n",
       "      <td>2021_79215</td>\n",
       "      <td>0.482659</td>\n",
       "    </tr>\n",
       "  </tbody>\n",
       "</table>\n",
       "</div>"
      ],
      "text/plain": [
       "         고유선수코드       장타율\n",
       "61   2021_67341  0.571376\n",
       "62   2021_67872  0.448683\n",
       "64   2021_68050  0.715877\n",
       "89   2021_75847  0.472290\n",
       "90   2021_76232  0.583374\n",
       "92   2021_76290  0.431428\n",
       "102  2021_78224  0.463439\n",
       "104  2021_78513  0.456077\n",
       "109  2021_79192  0.463958\n",
       "110  2021_79215  0.482659"
      ]
     },
     "execution_count": 188,
     "metadata": {},
     "output_type": "execute_result"
    }
   ],
   "source": [
    "me_pp.query('고유선수코드 in @target_2021')"
   ]
  },
  {
   "cell_type": "code",
   "execution_count": 189,
   "metadata": {},
   "outputs": [],
   "source": [
    "stack_deep=pd.merge(me_pp2,me_pp,on='고유선수코드')"
   ]
  },
  {
   "cell_type": "code",
   "execution_count": 190,
   "metadata": {},
   "outputs": [],
   "source": [
    "stack_deep_merge = pd.DataFrame({'고유선수코드': stack_deep['고유선수코드'], '장타율': (stack_deep.장타율_x+stack_deep.장타율_y)/2})"
   ]
  },
  {
   "cell_type": "code",
   "execution_count": null,
   "metadata": {},
   "outputs": [],
   "source": []
  },
  {
   "cell_type": "code",
   "execution_count": 191,
   "metadata": {},
   "outputs": [],
   "source": [
    "target_2021 = ['2021_76232', '2021_68050', '2021_75847', '2021_67341', '2021_79192', '2021_78224'\n",
    "               , '2021_78513', '2021_76290','2021_79215', '2021_67872']"
   ]
  },
  {
   "cell_type": "code",
   "execution_count": 192,
   "metadata": {},
   "outputs": [],
   "source": [
    "result = stack_deep_merge.query('고유선수코드 in @target_2021').reset_index(drop = True)"
   ]
  },
  {
   "cell_type": "code",
   "execution_count": 203,
   "metadata": {},
   "outputs": [],
   "source": [
    "ex = pd.read_excel(data_path_2+\"/2021 빅콘테스트_데이터분석분야_챔피언리그_스포츠테크_평가데이터.xlsx\")"
   ]
  },
  {
   "cell_type": "code",
   "execution_count": 204,
   "metadata": {},
   "outputs": [
    {
     "data": {
      "text/html": [
       "<div>\n",
       "<style scoped>\n",
       "    .dataframe tbody tr th:only-of-type {\n",
       "        vertical-align: middle;\n",
       "    }\n",
       "\n",
       "    .dataframe tbody tr th {\n",
       "        vertical-align: top;\n",
       "    }\n",
       "\n",
       "    .dataframe thead th {\n",
       "        text-align: right;\n",
       "    }\n",
       "</style>\n",
       "<table border=\"1\" class=\"dataframe\">\n",
       "  <thead>\n",
       "    <tr style=\"text-align: right;\">\n",
       "      <th></th>\n",
       "      <th>고유선수코드</th>\n",
       "      <th>장타율</th>\n",
       "    </tr>\n",
       "  </thead>\n",
       "  <tbody>\n",
       "    <tr>\n",
       "      <th>0</th>\n",
       "      <td>2021_67341</td>\n",
       "      <td>0.546772</td>\n",
       "    </tr>\n",
       "    <tr>\n",
       "      <th>1</th>\n",
       "      <td>2021_67872</td>\n",
       "      <td>0.426737</td>\n",
       "    </tr>\n",
       "    <tr>\n",
       "      <th>2</th>\n",
       "      <td>2021_68050</td>\n",
       "      <td>0.627434</td>\n",
       "    </tr>\n",
       "    <tr>\n",
       "      <th>3</th>\n",
       "      <td>2021_75847</td>\n",
       "      <td>0.472440</td>\n",
       "    </tr>\n",
       "    <tr>\n",
       "      <th>4</th>\n",
       "      <td>2021_76232</td>\n",
       "      <td>0.563350</td>\n",
       "    </tr>\n",
       "    <tr>\n",
       "      <th>5</th>\n",
       "      <td>2021_76290</td>\n",
       "      <td>0.451548</td>\n",
       "    </tr>\n",
       "    <tr>\n",
       "      <th>6</th>\n",
       "      <td>2021_78224</td>\n",
       "      <td>0.505879</td>\n",
       "    </tr>\n",
       "    <tr>\n",
       "      <th>7</th>\n",
       "      <td>2021_78513</td>\n",
       "      <td>0.468605</td>\n",
       "    </tr>\n",
       "    <tr>\n",
       "      <th>8</th>\n",
       "      <td>2021_79192</td>\n",
       "      <td>0.506992</td>\n",
       "    </tr>\n",
       "    <tr>\n",
       "      <th>9</th>\n",
       "      <td>2021_79215</td>\n",
       "      <td>0.492165</td>\n",
       "    </tr>\n",
       "  </tbody>\n",
       "</table>\n",
       "</div>"
      ],
      "text/plain": [
       "       고유선수코드       장타율\n",
       "0  2021_67341  0.546772\n",
       "1  2021_67872  0.426737\n",
       "2  2021_68050  0.627434\n",
       "3  2021_75847  0.472440\n",
       "4  2021_76232  0.563350\n",
       "5  2021_76290  0.451548\n",
       "6  2021_78224  0.505879\n",
       "7  2021_78513  0.468605\n",
       "8  2021_79192  0.506992\n",
       "9  2021_79215  0.492165"
      ]
     },
     "execution_count": 204,
     "metadata": {},
     "output_type": "execute_result"
    }
   ],
   "source": [
    "result"
   ]
  },
  {
   "cell_type": "code",
   "execution_count": 205,
   "metadata": {},
   "outputs": [],
   "source": [
    "ex.iloc[1:11,1] = result.고유선수코드.apply(lambda x:x.split(\"_\")[1])"
   ]
  },
  {
   "cell_type": "code",
   "execution_count": 207,
   "metadata": {},
   "outputs": [
    {
     "data": {
      "text/html": [
       "<div>\n",
       "<style scoped>\n",
       "    .dataframe tbody tr th:only-of-type {\n",
       "        vertical-align: middle;\n",
       "    }\n",
       "\n",
       "    .dataframe tbody tr th {\n",
       "        vertical-align: top;\n",
       "    }\n",
       "\n",
       "    .dataframe thead th {\n",
       "        text-align: right;\n",
       "    }\n",
       "</style>\n",
       "<table border=\"1\" class=\"dataframe\">\n",
       "  <thead>\n",
       "    <tr style=\"text-align: right;\">\n",
       "      <th></th>\n",
       "      <th>NO.</th>\n",
       "      <th>PCODE</th>\n",
       "      <th>OPS</th>\n",
       "      <th>장타율</th>\n",
       "      <th>출루율</th>\n",
       "    </tr>\n",
       "  </thead>\n",
       "  <tbody>\n",
       "    <tr>\n",
       "      <th>0</th>\n",
       "      <td>NaN</td>\n",
       "      <td>(예시)</td>\n",
       "      <td>1.090000</td>\n",
       "      <td>0.680000</td>\n",
       "      <td>0.417000</td>\n",
       "    </tr>\n",
       "    <tr>\n",
       "      <th>1</th>\n",
       "      <td>1</td>\n",
       "      <td>67341</td>\n",
       "      <td>0.912129</td>\n",
       "      <td>0.512230</td>\n",
       "      <td>0.399907</td>\n",
       "    </tr>\n",
       "    <tr>\n",
       "      <th>2</th>\n",
       "      <td>2</td>\n",
       "      <td>67872</td>\n",
       "      <td>0.749573</td>\n",
       "      <td>0.413405</td>\n",
       "      <td>0.336069</td>\n",
       "    </tr>\n",
       "    <tr>\n",
       "      <th>3</th>\n",
       "      <td>3</td>\n",
       "      <td>68050</td>\n",
       "      <td>0.933805</td>\n",
       "      <td>0.542398</td>\n",
       "      <td>0.391306</td>\n",
       "    </tr>\n",
       "    <tr>\n",
       "      <th>4</th>\n",
       "      <td>4</td>\n",
       "      <td>75847</td>\n",
       "      <td>0.827187</td>\n",
       "      <td>0.454819</td>\n",
       "      <td>0.372195</td>\n",
       "    </tr>\n",
       "    <tr>\n",
       "      <th>5</th>\n",
       "      <td>5</td>\n",
       "      <td>76232</td>\n",
       "      <td>0.929541</td>\n",
       "      <td>0.528337</td>\n",
       "      <td>0.401248</td>\n",
       "    </tr>\n",
       "    <tr>\n",
       "      <th>6</th>\n",
       "      <td>6</td>\n",
       "      <td>76290</td>\n",
       "      <td>0.837713</td>\n",
       "      <td>0.461132</td>\n",
       "      <td>0.376484</td>\n",
       "    </tr>\n",
       "    <tr>\n",
       "      <th>7</th>\n",
       "      <td>7</td>\n",
       "      <td>78224</td>\n",
       "      <td>0.882061</td>\n",
       "      <td>0.501144</td>\n",
       "      <td>0.381066</td>\n",
       "    </tr>\n",
       "    <tr>\n",
       "      <th>8</th>\n",
       "      <td>8</td>\n",
       "      <td>78513</td>\n",
       "      <td>0.840977</td>\n",
       "      <td>0.458852</td>\n",
       "      <td>0.382178</td>\n",
       "    </tr>\n",
       "    <tr>\n",
       "      <th>9</th>\n",
       "      <td>9</td>\n",
       "      <td>79192</td>\n",
       "      <td>0.888412</td>\n",
       "      <td>0.502936</td>\n",
       "      <td>0.385502</td>\n",
       "    </tr>\n",
       "    <tr>\n",
       "      <th>10</th>\n",
       "      <td>10</td>\n",
       "      <td>79215</td>\n",
       "      <td>0.861856</td>\n",
       "      <td>0.488424</td>\n",
       "      <td>0.373379</td>\n",
       "    </tr>\n",
       "    <tr>\n",
       "      <th>11</th>\n",
       "      <td>*설명회 자료 참고</td>\n",
       "      <td>NaN</td>\n",
       "      <td>NaN</td>\n",
       "      <td>NaN</td>\n",
       "      <td>NaN</td>\n",
       "    </tr>\n",
       "  </tbody>\n",
       "</table>\n",
       "</div>"
      ],
      "text/plain": [
       "           NO.  PCODE       OPS       장타율       출루율\n",
       "0          NaN   (예시)  1.090000  0.680000  0.417000\n",
       "1            1  67341  0.912129  0.512230  0.399907\n",
       "2            2  67872  0.749573  0.413405  0.336069\n",
       "3            3  68050  0.933805  0.542398  0.391306\n",
       "4            4  75847  0.827187  0.454819  0.372195\n",
       "5            5  76232  0.929541  0.528337  0.401248\n",
       "6            6  76290  0.837713  0.461132  0.376484\n",
       "7            7  78224  0.882061  0.501144  0.381066\n",
       "8            8  78513  0.840977  0.458852  0.382178\n",
       "9            9  79192  0.888412  0.502936  0.385502\n",
       "10          10  79215  0.861856  0.488424  0.373379\n",
       "11  *설명회 자료 참고    NaN       NaN       NaN       NaN"
      ]
     },
     "execution_count": 207,
     "metadata": {},
     "output_type": "execute_result"
    }
   ],
   "source": [
    "ex"
   ]
  },
  {
   "cell_type": "code",
   "execution_count": 208,
   "metadata": {},
   "outputs": [],
   "source": [
    "ex.iloc[1:11,3] = result.장타율"
   ]
  },
  {
   "cell_type": "code",
   "execution_count": 209,
   "metadata": {},
   "outputs": [
    {
     "data": {
      "text/html": [
       "<div>\n",
       "<style scoped>\n",
       "    .dataframe tbody tr th:only-of-type {\n",
       "        vertical-align: middle;\n",
       "    }\n",
       "\n",
       "    .dataframe tbody tr th {\n",
       "        vertical-align: top;\n",
       "    }\n",
       "\n",
       "    .dataframe thead th {\n",
       "        text-align: right;\n",
       "    }\n",
       "</style>\n",
       "<table border=\"1\" class=\"dataframe\">\n",
       "  <thead>\n",
       "    <tr style=\"text-align: right;\">\n",
       "      <th></th>\n",
       "      <th>NO.</th>\n",
       "      <th>PCODE</th>\n",
       "      <th>OPS</th>\n",
       "      <th>장타율</th>\n",
       "      <th>출루율</th>\n",
       "    </tr>\n",
       "  </thead>\n",
       "  <tbody>\n",
       "    <tr>\n",
       "      <th>0</th>\n",
       "      <td>NaN</td>\n",
       "      <td>(예시)</td>\n",
       "      <td>1.090000</td>\n",
       "      <td>0.680000</td>\n",
       "      <td>0.417000</td>\n",
       "    </tr>\n",
       "    <tr>\n",
       "      <th>1</th>\n",
       "      <td>1</td>\n",
       "      <td>67341</td>\n",
       "      <td>0.912129</td>\n",
       "      <td>0.546772</td>\n",
       "      <td>0.399907</td>\n",
       "    </tr>\n",
       "    <tr>\n",
       "      <th>2</th>\n",
       "      <td>2</td>\n",
       "      <td>67872</td>\n",
       "      <td>0.749573</td>\n",
       "      <td>0.426737</td>\n",
       "      <td>0.336069</td>\n",
       "    </tr>\n",
       "    <tr>\n",
       "      <th>3</th>\n",
       "      <td>3</td>\n",
       "      <td>68050</td>\n",
       "      <td>0.933805</td>\n",
       "      <td>0.627434</td>\n",
       "      <td>0.391306</td>\n",
       "    </tr>\n",
       "    <tr>\n",
       "      <th>4</th>\n",
       "      <td>4</td>\n",
       "      <td>75847</td>\n",
       "      <td>0.827187</td>\n",
       "      <td>0.472440</td>\n",
       "      <td>0.372195</td>\n",
       "    </tr>\n",
       "    <tr>\n",
       "      <th>5</th>\n",
       "      <td>5</td>\n",
       "      <td>76232</td>\n",
       "      <td>0.929541</td>\n",
       "      <td>0.563350</td>\n",
       "      <td>0.401248</td>\n",
       "    </tr>\n",
       "    <tr>\n",
       "      <th>6</th>\n",
       "      <td>6</td>\n",
       "      <td>76290</td>\n",
       "      <td>0.837713</td>\n",
       "      <td>0.451548</td>\n",
       "      <td>0.376484</td>\n",
       "    </tr>\n",
       "    <tr>\n",
       "      <th>7</th>\n",
       "      <td>7</td>\n",
       "      <td>78224</td>\n",
       "      <td>0.882061</td>\n",
       "      <td>0.505879</td>\n",
       "      <td>0.381066</td>\n",
       "    </tr>\n",
       "    <tr>\n",
       "      <th>8</th>\n",
       "      <td>8</td>\n",
       "      <td>78513</td>\n",
       "      <td>0.840977</td>\n",
       "      <td>0.468605</td>\n",
       "      <td>0.382178</td>\n",
       "    </tr>\n",
       "    <tr>\n",
       "      <th>9</th>\n",
       "      <td>9</td>\n",
       "      <td>79192</td>\n",
       "      <td>0.888412</td>\n",
       "      <td>0.506992</td>\n",
       "      <td>0.385502</td>\n",
       "    </tr>\n",
       "    <tr>\n",
       "      <th>10</th>\n",
       "      <td>10</td>\n",
       "      <td>79215</td>\n",
       "      <td>0.861856</td>\n",
       "      <td>0.492165</td>\n",
       "      <td>0.373379</td>\n",
       "    </tr>\n",
       "    <tr>\n",
       "      <th>11</th>\n",
       "      <td>*설명회 자료 참고</td>\n",
       "      <td>NaN</td>\n",
       "      <td>NaN</td>\n",
       "      <td>NaN</td>\n",
       "      <td>NaN</td>\n",
       "    </tr>\n",
       "  </tbody>\n",
       "</table>\n",
       "</div>"
      ],
      "text/plain": [
       "           NO.  PCODE       OPS       장타율       출루율\n",
       "0          NaN   (예시)  1.090000  0.680000  0.417000\n",
       "1            1  67341  0.912129  0.546772  0.399907\n",
       "2            2  67872  0.749573  0.426737  0.336069\n",
       "3            3  68050  0.933805  0.627434  0.391306\n",
       "4            4  75847  0.827187  0.472440  0.372195\n",
       "5            5  76232  0.929541  0.563350  0.401248\n",
       "6            6  76290  0.837713  0.451548  0.376484\n",
       "7            7  78224  0.882061  0.505879  0.381066\n",
       "8            8  78513  0.840977  0.468605  0.382178\n",
       "9            9  79192  0.888412  0.506992  0.385502\n",
       "10          10  79215  0.861856  0.492165  0.373379\n",
       "11  *설명회 자료 참고    NaN       NaN       NaN       NaN"
      ]
     },
     "execution_count": 209,
     "metadata": {},
     "output_type": "execute_result"
    }
   ],
   "source": [
    "ex"
   ]
  },
  {
   "cell_type": "code",
   "execution_count": 210,
   "metadata": {},
   "outputs": [],
   "source": [
    "ex.iloc[1:11,2] = ex.iloc[1:11,3] + ex.iloc[1:11,4]"
   ]
  },
  {
   "cell_type": "code",
   "execution_count": 211,
   "metadata": {},
   "outputs": [],
   "source": [
    "ex.to_excel(data_path_2+\"/2021 빅콘테스트_데이터분석분야_챔피언리그_스포츠테크_평가데이터.xlsx\", index = False)"
   ]
  },
  {
   "cell_type": "code",
   "execution_count": 213,
   "metadata": {},
   "outputs": [
    {
     "data": {
      "text/html": [
       "<div>\n",
       "<style scoped>\n",
       "    .dataframe tbody tr th:only-of-type {\n",
       "        vertical-align: middle;\n",
       "    }\n",
       "\n",
       "    .dataframe tbody tr th {\n",
       "        vertical-align: top;\n",
       "    }\n",
       "\n",
       "    .dataframe thead th {\n",
       "        text-align: right;\n",
       "    }\n",
       "</style>\n",
       "<table border=\"1\" class=\"dataframe\">\n",
       "  <thead>\n",
       "    <tr style=\"text-align: right;\">\n",
       "      <th></th>\n",
       "      <th>NO.</th>\n",
       "      <th>PCODE</th>\n",
       "      <th>OPS</th>\n",
       "      <th>장타율</th>\n",
       "      <th>출루율</th>\n",
       "    </tr>\n",
       "  </thead>\n",
       "  <tbody>\n",
       "    <tr>\n",
       "      <th>0</th>\n",
       "      <td>NaN</td>\n",
       "      <td>(예시)</td>\n",
       "      <td>1.090000</td>\n",
       "      <td>0.680000</td>\n",
       "      <td>0.417000</td>\n",
       "    </tr>\n",
       "    <tr>\n",
       "      <th>1</th>\n",
       "      <td>1</td>\n",
       "      <td>67341</td>\n",
       "      <td>0.946678</td>\n",
       "      <td>0.546772</td>\n",
       "      <td>0.399907</td>\n",
       "    </tr>\n",
       "    <tr>\n",
       "      <th>2</th>\n",
       "      <td>2</td>\n",
       "      <td>67872</td>\n",
       "      <td>0.762805</td>\n",
       "      <td>0.426737</td>\n",
       "      <td>0.336069</td>\n",
       "    </tr>\n",
       "    <tr>\n",
       "      <th>3</th>\n",
       "      <td>3</td>\n",
       "      <td>68050</td>\n",
       "      <td>1.018741</td>\n",
       "      <td>0.627434</td>\n",
       "      <td>0.391306</td>\n",
       "    </tr>\n",
       "    <tr>\n",
       "      <th>4</th>\n",
       "      <td>4</td>\n",
       "      <td>75847</td>\n",
       "      <td>0.844634</td>\n",
       "      <td>0.472440</td>\n",
       "      <td>0.372195</td>\n",
       "    </tr>\n",
       "    <tr>\n",
       "      <th>5</th>\n",
       "      <td>5</td>\n",
       "      <td>76232</td>\n",
       "      <td>0.964598</td>\n",
       "      <td>0.563350</td>\n",
       "      <td>0.401248</td>\n",
       "    </tr>\n",
       "    <tr>\n",
       "      <th>6</th>\n",
       "      <td>6</td>\n",
       "      <td>76290</td>\n",
       "      <td>0.828032</td>\n",
       "      <td>0.451548</td>\n",
       "      <td>0.376484</td>\n",
       "    </tr>\n",
       "    <tr>\n",
       "      <th>7</th>\n",
       "      <td>7</td>\n",
       "      <td>78224</td>\n",
       "      <td>0.886945</td>\n",
       "      <td>0.505879</td>\n",
       "      <td>0.381066</td>\n",
       "    </tr>\n",
       "    <tr>\n",
       "      <th>8</th>\n",
       "      <td>8</td>\n",
       "      <td>78513</td>\n",
       "      <td>0.850782</td>\n",
       "      <td>0.468605</td>\n",
       "      <td>0.382178</td>\n",
       "    </tr>\n",
       "    <tr>\n",
       "      <th>9</th>\n",
       "      <td>9</td>\n",
       "      <td>79192</td>\n",
       "      <td>0.892494</td>\n",
       "      <td>0.506992</td>\n",
       "      <td>0.385502</td>\n",
       "    </tr>\n",
       "    <tr>\n",
       "      <th>10</th>\n",
       "      <td>10</td>\n",
       "      <td>79215</td>\n",
       "      <td>0.865545</td>\n",
       "      <td>0.492165</td>\n",
       "      <td>0.373379</td>\n",
       "    </tr>\n",
       "    <tr>\n",
       "      <th>11</th>\n",
       "      <td>*설명회 자료 참고</td>\n",
       "      <td>NaN</td>\n",
       "      <td>NaN</td>\n",
       "      <td>NaN</td>\n",
       "      <td>NaN</td>\n",
       "    </tr>\n",
       "  </tbody>\n",
       "</table>\n",
       "</div>"
      ],
      "text/plain": [
       "           NO.  PCODE       OPS       장타율       출루율\n",
       "0          NaN   (예시)  1.090000  0.680000  0.417000\n",
       "1            1  67341  0.946678  0.546772  0.399907\n",
       "2            2  67872  0.762805  0.426737  0.336069\n",
       "3            3  68050  1.018741  0.627434  0.391306\n",
       "4            4  75847  0.844634  0.472440  0.372195\n",
       "5            5  76232  0.964598  0.563350  0.401248\n",
       "6            6  76290  0.828032  0.451548  0.376484\n",
       "7            7  78224  0.886945  0.505879  0.381066\n",
       "8            8  78513  0.850782  0.468605  0.382178\n",
       "9            9  79192  0.892494  0.506992  0.385502\n",
       "10          10  79215  0.865545  0.492165  0.373379\n",
       "11  *설명회 자료 참고    NaN       NaN       NaN       NaN"
      ]
     },
     "execution_count": 213,
     "metadata": {},
     "output_type": "execute_result"
    }
   ],
   "source": [
    "pd.read_excel(data_path_2+\"/2021 빅콘테스트_데이터분석분야_챔피언리그_스포츠테크_평가데이터.xlsx\")"
   ]
  }
 ],
 "metadata": {
  "kernelspec": {
   "display_name": "Python 3",
   "language": "python",
   "name": "python3"
  },
  "language_info": {
   "codemirror_mode": {
    "name": "ipython",
    "version": 3
   },
   "file_extension": ".py",
   "mimetype": "text/x-python",
   "name": "python",
   "nbconvert_exporter": "python",
   "pygments_lexer": "ipython3",
   "version": "3.8.8"
  }
 },
 "nbformat": 4,
 "nbformat_minor": 4
}
